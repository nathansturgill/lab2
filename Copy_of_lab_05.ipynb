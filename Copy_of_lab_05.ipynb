{
  "cells": [
    {
      "cell_type": "markdown",
      "metadata": {
        "id": "9Mstww9nwqrr"
      },
      "source": [
        "[![image](https://colab.research.google.com/assets/colab-badge.svg)](https://colab.research.google.com/github/giswqs/geog-312/blob/master/labs/lab_05.ipynb)\n",
        "[![image](https://binder.pangeo.io/badge_logo.svg)](https://gishub.org/geog312-pangeo)\n",
        "\n",
        "**Firstname Lastname**"
      ]
    },
    {
      "cell_type": "code",
      "execution_count": null,
      "metadata": {
        "id": "htkpMFoOwqrx"
      },
      "outputs": [],
      "source": [
        "from datetime import datetime\n",
        "\n",
        "now = datetime.now()\n",
        "print(f\"Submitted time: {now}\")"
      ]
    },
    {
      "cell_type": "markdown",
      "metadata": {
        "id": "5Ik5ZOG5wqr0"
      },
      "source": [
        "## Question 1\n",
        "**Person:** Use a dictionary to store information about a person you know. Store their first name, last name, age, and the city in which they live. You should have keys such as first_name, last_name, age, and city. Print each piece of information stored in your dictionary."
      ]
    },
    {
      "cell_type": "code",
      "execution_count": null,
      "metadata": {
        "id": "VLkRMn5-wqr1",
        "outputId": "8434d225-6bb2-47b2-cd07-4bb707433512",
        "colab": {
          "base_uri": "https://localhost:8080/"
        }
      },
      "outputs": [
        {
          "output_type": "stream",
          "name": "stdout",
          "text": [
            "First Name: aiden\n",
            "Last Name: kammler\n",
            "Age: 23\n",
            "City: portsmouth\n"
          ]
        }
      ],
      "source": [
        "person_info = {\n",
        "    \"first_name\": \"aiden\",\n",
        "    \"last_name\": \"kammler\",\n",
        "    \"age\": 23,\n",
        "    \"city\": \"portsmouth\"}\n",
        "\n",
        "print(\"First Name:\", person_info[\"first_name\"])\n",
        "print(\"Last Name:\", person_info[\"last_name\"])\n",
        "print(\"Age:\", person_info[\"age\"])\n",
        "print(\"City:\", person_info[\"city\"])"
      ]
    },
    {
      "cell_type": "markdown",
      "metadata": {
        "id": "nJPxVP1Nwqr1"
      },
      "source": [
        "## Question 2\n",
        "**Favorite Numbers:** Use a dictionary to store people’s favorite numbers. Think of five names, and use them as keys in your dictionary. Think of a favorite number for each person, and store each as a value in your dictionary. Print each person’s name and their favorite number. For even more fun, poll a few friends and get some actual data for your program."
      ]
    },
    {
      "cell_type": "code",
      "execution_count": null,
      "metadata": {
        "id": "Za2JFD4uwqr2",
        "outputId": "5fe793f0-3613-4cd6-b00b-ee2029a9658f",
        "colab": {
          "base_uri": "https://localhost:8080/"
        }
      },
      "outputs": [
        {
          "output_type": "stream",
          "name": "stdout",
          "text": [
            "aiden's favorite number is 23.\n",
            "maggie's favorite number is 7.\n",
            "Michael's favorite number is 13.\n",
            "audrey's favorite number is 12.\n",
            "addystin's favorite number is 25.\n"
          ]
        }
      ],
      "source": [
        "favorite_numbers = {\n",
        "    \"aiden\": 23,\n",
        "    \"maggie\": 7,\n",
        "    \"Michael\": 13,\n",
        "    \"audrey\": 12,\n",
        "    \"addystin\": 25}\n",
        "for person, number in favorite_numbers.items():\n",
        "    print(f\"{person}'s favorite number is {number}.\")\n"
      ]
    },
    {
      "cell_type": "markdown",
      "metadata": {
        "id": "39NPOJ9_wqr2"
      },
      "source": [
        "## Question 3\n",
        "**Glossary:** A Python dictionary can be used to model an actual dictionary. However, to avoid confusion, let’s call it a glossary.\n",
        "\n",
        "* Think of five programming words you’ve learned about in the previous chapters. Use these words as the keys in your glossary, and store their meanings as values.\n",
        "* Print each word and its meaning as neatly formatted output. You might print the word followed by a colon and then its meaning, or print the word on one line and then print its meaning indented on a second line. Use the newline character (\\n) to insert a blank line between each word-meaning pair in your output."
      ]
    },
    {
      "cell_type": "code",
      "execution_count": null,
      "metadata": {
        "id": "1rEwAVZtwqr3",
        "outputId": "c0b056fc-d74d-4292-dedf-33d0b7744b4c",
        "colab": {
          "base_uri": "https://localhost:8080/"
        }
      },
      "outputs": [
        {
          "output_type": "stream",
          "name": "stdout",
          "text": [
            "variable:\n",
            "A container for storing data values.\n",
            "\n",
            "function:\n",
            "A block of code that only runs when it is called.\n",
            "\n",
            "loop:\n",
            "A way to repeatedly execute a block of code.\n",
            "\n",
            "list:\n",
            "A collection of items in a particular order.\n",
            "\n",
            "dictionary:\n",
            "A collection of key-value pairs.\n",
            "\n"
          ]
        }
      ],
      "source": [
        "glossary = {\n",
        "    \"variable\": \"A container for storing data values.\",\n",
        "    \"function\": \"A block of code that only runs when it is called.\",\n",
        "    \"loop\": \"A way to repeatedly execute a block of code.\",\n",
        "    \"list\": \"A collection of items in a particular order.\",\n",
        "    \"dictionary\": \"A collection of key-value pairs.\"}\n",
        "for word, meaning in glossary.items():\n",
        "    print(f\"{word}:\\n{meaning}\\n\")"
      ]
    },
    {
      "cell_type": "markdown",
      "metadata": {
        "id": "6Vi_619Lwqr3"
      },
      "source": [
        "## Question 4\n",
        "**Glossary 2:** Now that you know how to loop through a dictionary, clean up the code from Question 3 by replacing your series of print() calls with a loop that runs through the dictionary’s keys and values. When you’re sure that your loop works, add five more Python terms to your glossary. When you run your program again, these new words and meanings should automatically be included in the output."
      ]
    },
    {
      "cell_type": "code",
      "execution_count": null,
      "metadata": {
        "id": "zzA5LDGhwqr4",
        "outputId": "25fc78a1-27a1-44e0-e9e1-8c7f822d2122",
        "colab": {
          "base_uri": "https://localhost:8080/"
        }
      },
      "outputs": [
        {
          "output_type": "stream",
          "name": "stdout",
          "text": [
            "variable:\n",
            "a container for storing data values.\n",
            "\n",
            "function:\n",
            "a block of code that only runs when it is called.\n",
            "\n",
            "loop:\n",
            "a way to repeatedly execute a block of code.\n",
            "\n",
            "list:\n",
            "a collection of items in a particular order.\n",
            "\n",
            "dictionary:\n",
            "a collection of key-value pairs.\n",
            "\n",
            "tuple:\n",
            "an immutable collection of ordered elements.\n",
            "\n",
            "class:\n",
            "an outline for creating objects.\n",
            "\n",
            "method:\n",
            "a function associated with a class.\n",
            "\n",
            "module:\n",
            "a file containing Python definitions and statements.\n",
            "\n"
          ]
        }
      ],
      "source": [
        "glossary = {\n",
        "    \"variable\": \"a container for storing data values.\",\n",
        "    \"function\": \"a block of code that only runs when it is called.\",\n",
        "    \"loop\": \"a way to repeatedly execute a block of code.\",\n",
        "    \"list\": \"a collection of items in a particular order.\",\n",
        "    \"dictionary\": \"a collection of key-value pairs.\",\n",
        "    \"tuple\": \"an immutable collection of ordered elements.\",\n",
        "    \"class\": \"an outline for creating objects.\",\n",
        "    \"method\": \"a function associated with a class.\",\n",
        "    \"module\": \"a file containing Python definitions and statements.\"}\n",
        "for word, meaning in glossary.items():\n",
        "    print(f\"{word}:\\n{meaning}\\n\")"
      ]
    },
    {
      "cell_type": "markdown",
      "metadata": {
        "id": "-tO16j1Cwqr4"
      },
      "source": [
        "## Question 5\n",
        "**Rivers:** Make a dictionary containing three major rivers and the country each river runs through. One key-value pair might be 'nile': 'egypt'.\n",
        "\n",
        "* Use a loop to print a sentence about each river, such as *The Nile runs through Egypt.*\n",
        "* Use a loop to print the name of each river included in the dictionary.\n",
        "* Use a loop to print the name of each country included in the dictionary."
      ]
    },
    {
      "cell_type": "code",
      "execution_count": null,
      "metadata": {
        "id": "RlerAcJWwqr4",
        "outputId": "f8b3bc83-bebf-4c70-ed36-fd8330143734",
        "colab": {
          "base_uri": "https://localhost:8080/"
        }
      },
      "outputs": [
        {
          "output_type": "stream",
          "name": "stdout",
          "text": [
            "The Nile runs through Egypt.\n",
            "The Amazon runs through Brazil.\n",
            "The Yangtze runs through China.\n",
            "\n",
            "River Names:\n",
            "Nile\n",
            "Amazon\n",
            "Yangtze\n",
            "\n",
            "Country Names:\n",
            "Egypt\n",
            "Brazil\n",
            "China\n"
          ]
        }
      ],
      "source": [
        "rivers = {\n",
        "    \"nile\": \"egypt\",\n",
        "    \"amazon\": \"brazil\",\n",
        "    \"yangtze\": \"china\"}\n",
        "for river, country in rivers.items():\n",
        "    print(f\"The {river.capitalize()} runs through {country.capitalize()}.\")\n",
        "\n",
        "print(\"\\nRiver Names:\")\n",
        "\n",
        "for river in rivers:\n",
        "    print(river.capitalize())\n",
        "\n",
        "print(\"\\nCountry Names:\")\n",
        "for country in rivers.values():\n",
        "    print(country.capitalize())\n"
      ]
    },
    {
      "cell_type": "markdown",
      "metadata": {
        "id": "x3PcCASewqr4"
      },
      "source": [
        "## Question 6\n",
        "**Polling:** Based on the dictionary below (i.e., favorite_languages):\n",
        "\n",
        "* Make a list of people who should take the favorite languages poll. Include some names that are already in the dictionary and some that are not.\n",
        "* Loop through the list of people who should take the poll. If they have already taken the poll, print a message thanking them for responding. If they have not yet taken the poll, print a message inviting them to take the poll."
      ]
    },
    {
      "cell_type": "code",
      "execution_count": null,
      "metadata": {
        "id": "VaITtViUwqr5",
        "outputId": "c543197d-e38a-4519-c790-343f98b5ce24",
        "colab": {
          "base_uri": "https://localhost:8080/"
        }
      },
      "outputs": [
        {
          "output_type": "stream",
          "name": "stdout",
          "text": [
            "Thank you, Jen, for responding to the poll!\n",
            "Thank you, Sarah, for responding to the poll!\n",
            "Mike, we invite you to take the favorite languages poll.\n",
            "John, we invite you to take the favorite languages poll.\n"
          ]
        }
      ],
      "source": [
        "favorite_languages = {\n",
        "    'jen': 'python',\n",
        "    'sarah': 'c',\n",
        "    'edward': 'ruby',\n",
        "    'phil': 'python',\n",
        "    }\n",
        "favorite_languages = {\n",
        "    'jen': 'python',\n",
        "    'sarah': 'c',\n",
        "    'edward': 'ruby',\n",
        "    'phil': 'python'\n",
        "}\n",
        "\n",
        "people_to_poll = ['jen', 'sarah', 'mike', 'john']\n",
        "for person in people_to_poll:\n",
        "    if person in favorite_languages:\n",
        "        print(f\"Thank you, {person.title()}, for responding to the poll!\")\n",
        "    else:\n",
        "        print(f\"{person.title()}, we invite you to take the favorite languages poll.\")"
      ]
    },
    {
      "cell_type": "markdown",
      "metadata": {
        "id": "ij0vEEo_wqr5"
      },
      "source": []
    },
    {
      "cell_type": "markdown",
      "metadata": {
        "id": "WoXHcRD4wqr5"
      },
      "source": [
        "## Question 7\n",
        "**People:** Start with the program you wrote for Question 1. Make two new dictionaries representing different people, and store all three dictionaries in a list called `people`. Loop through your list of people. As you loop through the list, print everything you know about each person."
      ]
    },
    {
      "cell_type": "code",
      "execution_count": null,
      "metadata": {
        "id": "Ei1llVfswqr5",
        "outputId": "1953079a-f46a-4a91-a186-2fce0a3c7df4",
        "colab": {
          "base_uri": "https://localhost:8080/"
        }
      },
      "outputs": [
        {
          "output_type": "stream",
          "name": "stdout",
          "text": [
            "First Name: aiden\n",
            "Last Name: kammler\n",
            "Age: 23\n",
            "City: portsmouth\n",
            "\n",
            "First Name: jane\n",
            "Last Name: smith\n",
            "Age: 25\n",
            "City: San Francisco\n",
            "\n",
            "First Name: michael\n",
            "Last Name: johnson\n",
            "Age: 35\n",
            "City: Los Angeles\n",
            "\n"
          ]
        }
      ],
      "source": [
        "person1 = {\n",
        "    'first_name': 'aiden',\n",
        "    'last_name': 'kammler',\n",
        "    'age': 23,\n",
        "    'city': 'portsmouth'}\n",
        "person2 = {\n",
        "    'first_name': 'jane',\n",
        "    'last_name': 'smith',\n",
        "    'age': 25,\n",
        "    'city': 'San Francisco'}\n",
        "\n",
        "person3 = {\n",
        "    'first_name': 'michael',\n",
        "    'last_name': 'johnson',\n",
        "    'age': 35,\n",
        "    'city': 'Los Angeles'}\n",
        "\n",
        "people = [person1, person2, person3]\n",
        "for person in people:\n",
        "    print(\"First Name:\", person['first_name'])\n",
        "    print(\"Last Name:\", person['last_name'])\n",
        "    print(\"Age:\", person['age'])\n",
        "    print(\"City:\", person['city'])\n",
        "    print()\n"
      ]
    },
    {
      "cell_type": "markdown",
      "metadata": {
        "id": "wjbgCZP5wqr5"
      },
      "source": [
        "## Question 8\n",
        "**Pets:** Make several dictionaries, where each dictionary represents a different pet. In each dictionary, include the kind of animal and the owner’s name. Store these dictionaries in a list called `pets`. Next, loop through your list and as you do, print everything you know about each pet."
      ]
    },
    {
      "cell_type": "code",
      "execution_count": null,
      "metadata": {
        "id": "xkfDLCMrwqr6",
        "outputId": "72cda226-50ba-4a3c-a762-58810d0be660",
        "colab": {
          "base_uri": "https://localhost:8080/"
        }
      },
      "outputs": [
        {
          "output_type": "stream",
          "name": "stdout",
          "text": [
            "Animal Kind: Dog\n",
            "Owner Name: Alice\n",
            "\n",
            "Animal Kind: Cat\n",
            "Owner Name: Bob\n",
            "\n",
            "Animal Kind: Parrot\n",
            "Owner Name: Charlie\n",
            "\n"
          ]
        }
      ],
      "source": [
        "pet1 = {\n",
        "    'animal_kind': 'Dog',\n",
        "    'owner_name': 'Alice'}\n",
        "pet2 = {\n",
        "    'animal_kind': 'Cat',\n",
        "    'owner_name': 'Bob'}\n",
        "pet3 = {\n",
        "    'animal_kind': 'Parrot',\n",
        "    'owner_name': 'Charlie'}\n",
        "pets = [pet1, pet2, pet3]\n",
        "for pet in pets:\n",
        "    print(\"Animal Kind:\", pet['animal_kind'])\n",
        "    print(\"Owner Name:\", pet['owner_name'])\n",
        "    print()"
      ]
    },
    {
      "cell_type": "markdown",
      "metadata": {
        "id": "OrYv1MBCwqr6"
      },
      "source": [
        "## Question 9\n",
        "**Favorite Places:** Make a dictionary called `favorite_places`. Think of three names to use as keys in the dictionary, and store one to three favorite places for each person. To make this exercise a bit more interesting, ask some friends to name a few of their favorite places. Loop through the dictionary, and print each person’s name and their favorite places."
      ]
    },
    {
      "cell_type": "code",
      "execution_count": null,
      "metadata": {
        "id": "0XqbDoMFwqr6",
        "outputId": "89d88ca8-d6c6-4e40-a888-4cce5aa55f78",
        "colab": {
          "base_uri": "https://localhost:8080/"
        }
      },
      "outputs": [
        {
          "output_type": "stream",
          "name": "stdout",
          "text": [
            "Alice's favorite places:\n",
            "Paris\n",
            "New York\n",
            "Rome\n",
            "\n",
            "Bob's favorite places:\n",
            "Tokyo\n",
            "Sydney\n",
            "\n",
            "Charlie's favorite places:\n",
            "London\n",
            "\n"
          ]
        }
      ],
      "source": [
        "favorite_places = {\n",
        "    'Alice': ['Paris', 'New York', 'Rome'],\n",
        "    'Bob': ['Tokyo', 'Sydney'],\n",
        "    'Charlie': ['London']}\n",
        "for person, places in favorite_places.items():\n",
        "    print(f\"{person}'s favorite places:\")\n",
        "    for place in places:\n",
        "        print(place)\n",
        "    print()\n"
      ]
    },
    {
      "cell_type": "markdown",
      "metadata": {
        "id": "x80rLzL6wqr6"
      },
      "source": [
        "## Question 10\n",
        "**Favorite Numbers:** Modify your program from Question 2 so each person can have more than one favorite number. Then print each person’s name along with their favorite numbers."
      ]
    },
    {
      "cell_type": "code",
      "execution_count": null,
      "metadata": {
        "id": "7NfhGTjgwqr6",
        "outputId": "f9ae54de-7720-44c2-d505-eb820dd877cb",
        "colab": {
          "base_uri": "https://localhost:8080/"
        }
      },
      "outputs": [
        {
          "output_type": "stream",
          "name": "stdout",
          "text": [
            "aiden's favorite numbers are: 23, 42, 12.\n",
            "maggie's favorite numbers are: 7, 18.\n",
            "Michael's favorite numbers are: 13, 7, 9.\n",
            "audrey's favorite numbers are: 12, 15, 22.\n",
            "addystin's favorite numbers are: 25, 10.\n"
          ]
        }
      ],
      "source": [
        "favorite_numbers = {\n",
        "    \"aiden\": [23, 42, 12],\n",
        "    \"maggie\": [7, 18],\n",
        "    \"Michael\": [13, 7, 9],\n",
        "    \"audrey\": [12, 15, 22],\n",
        "    \"addystin\": [25, 10]\n",
        "}\n",
        "for person, numbers in favorite_numbers.items():\n",
        "    print(f\"{person}'s favorite numbers are: {', '.join(map(str, numbers))}.\")"
      ]
    },
    {
      "cell_type": "markdown",
      "metadata": {
        "id": "EFWkdKQ3wqr6"
      },
      "source": [
        "## Question 11\n",
        "**Cities:** Make a dictionary called `cities`. Use the names of three cities as keys in your dictionary. Create a dictionary of information about each city and include the country that the city is in, its approximate population, and one fact about that city. The keys for each city’s dictionary should be something like `country`, `population`, and `fact`. Print the name of each city and all of the information you have stored about it."
      ]
    },
    {
      "cell_type": "code",
      "execution_count": null,
      "metadata": {
        "id": "8oDjJVOSwqr6",
        "outputId": "2f2a729a-9655-483d-c629-d9062edb49b0",
        "colab": {
          "base_uri": "https://localhost:8080/"
        }
      },
      "outputs": [
        {
          "output_type": "stream",
          "name": "stdout",
          "text": [
            "City: New York\n",
            "Country: USA\n",
            "Population: 8.4 million\n",
            "Fact: New York City is known as \"The Big Apple.\"\n",
            "\n",
            "City: Paris\n",
            "Country: France\n",
            "Population: 2.2 million\n",
            "Fact: Paris is called \"The City of Light.\"\n",
            "\n",
            "City: Tokyo\n",
            "Country: Japan\n",
            "Population: 9.7 million\n",
            "Fact: Tokyo is the largest city in Japan.\n",
            "\n"
          ]
        }
      ],
      "source": [
        "cities = {\n",
        "    'New York': {\n",
        "        'country': 'USA',\n",
        "        'population': '8.4 million',\n",
        "        'fact': 'New York City is known as \"The Big Apple.\"'},\n",
        "    'Paris': {\n",
        "        'country': 'France',\n",
        "        'population': '2.2 million',\n",
        "        'fact': 'Paris is called \"The City of Light.\"'},\n",
        "    'Tokyo': {\n",
        "        'country': 'Japan',\n",
        "        'population': '9.7 million',\n",
        "        'fact': 'Tokyo is the largest city in Japan.'}}\n",
        "for city, info in cities.items():\n",
        "    print(f\"City: {city}\")\n",
        "    print(f\"Country: {info['country']}\")\n",
        "    print(f\"Population: {info['population']}\")\n",
        "    print(f\"Fact: {info['fact']}\")\n",
        "    print()\n"
      ]
    },
    {
      "cell_type": "markdown",
      "metadata": {
        "id": "Cw59XM07wqr7"
      },
      "source": [
        "## Question 12\n",
        "**Extensions:** We’re now working with examples that are complex enough that they can be extended in any number of ways. Use one of the example programs from this chapter, and extend it by adding new keys and values, changing the context of the program or improving the formatting of the output."
      ]
    },
    {
      "cell_type": "code",
      "execution_count": null,
      "metadata": {
        "id": "M4qRZnzSwqr7",
        "outputId": "dd197f29-8cf3-47c7-bad7-6c5cdef6234b",
        "colab": {
          "base_uri": "https://localhost:8080/"
        }
      },
      "outputs": [
        {
          "output_type": "stream",
          "name": "stdout",
          "text": [
            "Alice's Information:\n",
            "Age: 28\n",
            "languages of the world:\n",
            "- english\n",
            "- latin\n",
            "\n",
            "Bob's Information:\n",
            "Age: 32\n",
            "languages of the world:\n",
            "- german\n",
            "- french\n",
            "- spanish\n",
            "\n",
            "Charlie's Information:\n",
            "Age: 25\n",
            "languages of the world:\n",
            "- russian\n",
            "- mandarin\n",
            "\n"
          ]
        }
      ],
      "source": [
        "favorite_languages = {\n",
        "    'Alice': {\n",
        "        'age': 28,\n",
        "        'languages': ['english', 'latin']\n",
        "    },\n",
        "    'Bob': {\n",
        "        'age': 32,\n",
        "        'languages': ['german', 'french', 'spanish']\n",
        "    },\n",
        "    'Charlie': {\n",
        "        'age': 25,\n",
        "        'languages': ['russian', 'mandarin']}}\n",
        "for person, info in favorite_languages.items():\n",
        "    print(f\"{person}'s Information:\")\n",
        "    print(f\"Age: {info['age']}\")\n",
        "    print(\"languages of the world:\")\n",
        "    for lang in info['languages']:\n",
        "        print(f\"- {lang}\")\n",
        "    print()\n"
      ]
    },
    {
      "cell_type": "markdown",
      "metadata": {
        "id": "zP-IZACSwqr7"
      },
      "source": [
        "## Question 13\n",
        "**Rental Car:** Write a program that asks the user what kind of rental car they would like. Print a message about that car, such as “Let me see if I can find you a Subaru.”"
      ]
    },
    {
      "cell_type": "code",
      "execution_count": null,
      "metadata": {
        "id": "L_fXeCFxwqr7",
        "outputId": "808e15f3-8c72-4eaf-cc38-6040eec265f4",
        "colab": {
          "base_uri": "https://localhost:8080/"
        }
      },
      "outputs": [
        {
          "output_type": "stream",
          "name": "stdout",
          "text": [
            "What kind of rental car would you like? subaru\n",
            "Let me see if I can find you a subaru.\n"
          ]
        }
      ],
      "source": [
        "preferred_car = input(\"What kind of rental car would you like? \")\n",
        "print(f\"Let me see if I can find you a {preferred_car}.\")\n"
      ]
    },
    {
      "cell_type": "markdown",
      "metadata": {
        "id": "KJIYMWsowqr7"
      },
      "source": [
        "## Question 14\n",
        "**Restaurant Seating:** Write a program that asks the user how many people are in their dinner group. If the answer is more than eight, print a message saying they’ll have to wait for a table. Otherwise, report that their table is ready."
      ]
    },
    {
      "cell_type": "code",
      "execution_count": null,
      "metadata": {
        "id": "JalxcniLwqr7",
        "outputId": "53b750a9-979b-4fa5-aff1-6009a1470047",
        "colab": {
          "base_uri": "https://localhost:8080/"
        }
      },
      "outputs": [
        {
          "output_type": "stream",
          "name": "stdout",
          "text": [
            "How many people are in your dinner group? 9\n",
            "I'm sorry, you'll have to wait for a table.\n"
          ]
        }
      ],
      "source": [
        "num_people = int(input(\"How many people are in your dinner group? \"))\n",
        "if num_people > 8:\n",
        "    print(\"I'm sorry, you'll have to wait for a table.\")\n",
        "else:\n",
        "    print(\"Your table is ready.\")\n"
      ]
    },
    {
      "cell_type": "markdown",
      "metadata": {
        "id": "LqnHmqIawqr7"
      },
      "source": [
        "## Question 15\n",
        "**Multiples of Ten:** Ask the user for a number, and then report whether the number is a multiple of 10 or not."
      ]
    },
    {
      "cell_type": "code",
      "execution_count": null,
      "metadata": {
        "id": "5_FoAbN1wqr8",
        "outputId": "6a6e7b13-ccb4-4943-b449-4e03ab3a97ab",
        "colab": {
          "base_uri": "https://localhost:8080/"
        }
      },
      "outputs": [
        {
          "output_type": "stream",
          "name": "stdout",
          "text": [
            "Enter a number: 164\n",
            "164 is not a multiple of 10.\n"
          ]
        }
      ],
      "source": [
        "user_number = int(input(\"Enter a number: \"))\n",
        "if user_number % 10 == 0:\n",
        "    print(f\"{user_number} is a multiple of 10.\")\n",
        "else:\n",
        "    print(f\"{user_number} is not a multiple of 10.\")\n"
      ]
    },
    {
      "cell_type": "markdown",
      "metadata": {
        "id": "vMticxWNwqr8"
      },
      "source": [
        "## Question 16\n",
        "**Pizza Toppings:** Write a loop that prompts the user to enter a series of pizza toppings until they enter a 'quit' value. As they enter each topping, print a message saying you’ll add that topping to their pizza."
      ]
    },
    {
      "cell_type": "code",
      "execution_count": null,
      "metadata": {
        "id": "TyJy0bgcwqr8",
        "outputId": "817d3f91-048b-4ad9-9d46-58154cee1409",
        "colab": {
          "base_uri": "https://localhost:8080/"
        }
      },
      "outputs": [
        {
          "output_type": "stream",
          "name": "stdout",
          "text": [
            "Enter a pizza topping (enter 'quit' to finish): mushroom\n",
            "I'll add mushroom to your pizza.\n",
            "Enter a pizza topping (enter 'quit' to finish): quit\n",
            "Your pizza will have the following toppings:\n",
            "mushroom\n"
          ]
        }
      ],
      "source": [
        "pizza_toppings = []\n",
        "while True:\n",
        "    topping = input(\"Enter a pizza topping (enter 'quit' to finish): \")\n",
        "    if topping.lower() == 'quit':\n",
        "        break\n",
        "    pizza_toppings.append(topping)\n",
        "    print(f\"I'll add {topping} to your pizza.\")\n",
        "if pizza_toppings:\n",
        "    print(\"Your pizza will have the following toppings:\")\n",
        "    for topping in pizza_toppings:\n",
        "        print(topping)\n",
        "else:\n",
        "    print(\"You didn't choose any toppings for your pizza.\")\n"
      ]
    },
    {
      "cell_type": "markdown",
      "metadata": {
        "id": "hcInCYnqwqr8"
      },
      "source": [
        "## Question 17\n",
        "**Movie Tickets:** A movie theater charges different ticket prices depending on a person’s age. If a person is under the age of 3, the ticket is free; if they are between 3 and 12, the ticket is \\\\$10; and if they are over age 12, the ticket is $15. Write a loop in which you ask users their age, and then tell them the cost of their movie ticket."
      ]
    },
    {
      "cell_type": "code",
      "execution_count": null,
      "metadata": {
        "id": "3HeZcFvbwqr8",
        "outputId": "83a2660b-1fb4-4afa-cac4-334289647599",
        "colab": {
          "base_uri": "https://localhost:8080/"
        }
      },
      "outputs": [
        {
          "name": "stdout",
          "output_type": "stream",
          "text": [
            "Enter your age (type 'quit' to exit): 18\n",
            "The cost of your movie ticket is $15.\n",
            "Enter your age (type 'quit' to exit): quit\n"
          ]
        }
      ],
      "source": [
        "while True:\n",
        "    age = input(\"Enter your age (type 'quit' to exit): \")\n",
        "\n",
        "    if age.lower() == 'quit':\n",
        "        break\n",
        "\n",
        "    age = int(age)\n",
        "\n",
        "    if age < 3:\n",
        "        ticket_cost = 0\n",
        "    elif 3 <= age <= 12:\n",
        "        ticket_cost = 10\n",
        "    else:\n",
        "        ticket_cost = 15\n",
        "\n",
        "    print(f\"The cost of your movie ticket is ${ticket_cost}.\")\n"
      ]
    },
    {
      "cell_type": "markdown",
      "metadata": {
        "id": "Z00BT1rJwqr8"
      },
      "source": [
        "## Question 18\n",
        "**Three Exits:** Write different versions of either Question 16 or Question 17 that do each of the following at least once:\n",
        "\n",
        "* Use a conditional test in the while statement to stop the loop.\n",
        "* Use an active variable to control how long the loop runs.\n",
        "* Use a break statement to exit the loop when the user enters a 'quit' value.\n",
        "while True:\n",
        "    age = input(\"Enter your age (type 'quit' to exit): \")\n",
        "\n",
        "    if age.lower() == 'quit':\n",
        "        break\n",
        "\n",
        "    age = int(age)\n",
        "\n",
        "    if age < 3:\n",
        "        ticket_cost = 0\n",
        "    elif 3 <= age <= 12:\n",
        "        ticket_cost = 10\n",
        "    else:\n",
        "        ticket_cost = 15\n",
        "\n",
        "    print(f\"The cost of your movie ticket is ${ticket_cost}.\")\n",
        "    if age > 120:\n",
        "        print(\"You're too old for this!\")\n",
        "        break\n",
        "\n",
        "\n"
      ]
    },
    {
      "cell_type": "code",
      "source": [
        "while True:\n",
        "    age = input(\"Enter your age (type 'quit' to exit): \")\n",
        "\n",
        "    if age.lower() == 'quit':\n",
        "        break\n",
        "\n",
        "    age = int(age)\n",
        "\n",
        "    if age < 3:\n",
        "        ticket_cost = 0\n",
        "    elif 3 <= age <= 12:\n",
        "        ticket_cost = 10\n",
        "    else:\n",
        "        ticket_cost = 15\n",
        "\n",
        "    print(f\"The cost of your movie ticket is ${ticket_cost}.\")\n",
        "    if age > 120:\n",
        "        print(\"You're too old for this!\")\n",
        "        break\n"
      ],
      "metadata": {
        "id": "Mkyc72c93-NY",
        "outputId": "19ddae5a-37c7-4655-8e49-38315deee1b6",
        "colab": {
          "base_uri": "https://localhost:8080/"
        }
      },
      "execution_count": null,
      "outputs": [
        {
          "output_type": "stream",
          "name": "stdout",
          "text": [
            "Enter your age (type 'quit' to exit): 121\n",
            "The cost of your movie ticket is $15.\n",
            "You're too old for this!\n"
          ]
        }
      ]
    },
    {
      "cell_type": "code",
      "source": [
        "\n",
        "active = True\n",
        "\n",
        "while active:\n",
        "    age = input(\"Enter your age (type 'quit' to exit): \")\n",
        "\n",
        "    if age.lower() == 'quit':\n",
        "        active = False\n",
        "        continue\n",
        "\n",
        "    age = int(age)\n",
        "\n",
        "    if age < 3:\n",
        "        ticket_cost = 0\n",
        "    elif 3 <= age <= 12:\n",
        "        ticket_cost = 10\n",
        "    else:\n",
        "        ticket_cost = 15\n",
        "\n",
        "    print(f\"The cost of your movie ticket is ${ticket_cost}.\")\n"
      ],
      "metadata": {
        "id": "NHxfQ4te4H_9",
        "outputId": "bbcc38e0-52f5-43f6-e7b0-634963d02b94",
        "colab": {
          "base_uri": "https://localhost:8080/"
        }
      },
      "execution_count": null,
      "outputs": [
        {
          "name": "stdout",
          "output_type": "stream",
          "text": [
            "Enter your age (type 'quit' to exit): 34\n",
            "The cost of your movie ticket is $15.\n",
            "Enter your age (type 'quit' to exit): quit\n"
          ]
        }
      ]
    },
    {
      "cell_type": "code",
      "source": [
        "\n",
        "while True:\n",
        "    age = input(\"Enter your age (type 'quit' to exit): \")\n",
        "\n",
        "    if age.lower() == 'quit':\n",
        "        break\n",
        "\n",
        "    age = int(age)\n",
        "\n",
        "    if age < 3:\n",
        "        ticket_cost = 0\n",
        "    elif 3 <= age <= 12:\n",
        "        ticket_cost = 10\n",
        "    else:\n",
        "        ticket_cost = 15\n",
        "\n",
        "    print(f\"The cost of your movie ticket is ${ticket_cost}.\")\n"
      ],
      "metadata": {
        "id": "f3ZmoXEc4OWQ",
        "outputId": "f67f6642-a440-40ba-a1a4-93533f7b89f3",
        "colab": {
          "base_uri": "https://localhost:8080/"
        }
      },
      "execution_count": null,
      "outputs": [
        {
          "output_type": "stream",
          "name": "stdout",
          "text": [
            "Enter your age (type 'quit' to exit): 121\n",
            "The cost of your movie ticket is $15.\n"
          ]
        }
      ]
    },
    {
      "cell_type": "markdown",
      "metadata": {
        "id": "j-zZY5r7wqr9"
      },
      "source": []
    },
    {
      "cell_type": "markdown",
      "metadata": {
        "id": "tRBV44ctwqsC"
      },
      "source": [
        "## Question 19\n",
        "**Deli:** Make a list called `sandwich_orders` and fill it with the names of various sandwiches. Then make an empty list called `finished_sandwiches`. Loop through the list of sandwich orders and print a message for each order, such as `I made your tuna sandwich`. As each sandwich is made, move it to the list of finished sandwiches. After all the sandwiches have been made, print a message listing each sandwich that was made."
      ]
    },
    {
      "cell_type": "code",
      "execution_count": 3,
      "metadata": {
        "id": "A57C_SvYwqsC",
        "colab": {
          "base_uri": "https://localhost:8080/"
        },
        "outputId": "1540b9fd-906d-435b-a333-002c1c3c082b"
      },
      "outputs": [
        {
          "output_type": "stream",
          "name": "stdout",
          "text": [
            "I made your ham and cheese sandwich.\n",
            "I made your turkey sandwich.\n",
            "I made your club sandwich.\n",
            "I made your veggie sandwich.\n",
            "I made your pastrami sandwich.\n",
            "\n",
            "Sandwiches made:\n",
            "ham and cheese\n",
            "turkey\n",
            "club\n",
            "veggie\n",
            "pastrami\n"
          ]
        }
      ],
      "source": [
        "sandwich_orders = ['ham and cheese', 'turkey', 'club', 'veggie', 'pastrami']\n",
        "finished_sandwiches = []\n",
        "\n",
        "while sandwich_orders:\n",
        "    current_sandwich = sandwich_orders.pop(0)\n",
        "    print(f\"I made your {current_sandwich} sandwich.\")\n",
        "    finished_sandwiches.append(current_sandwich)\n",
        "\n",
        "print(\"\\nSandwiches made:\")\n",
        "for sandwich in finished_sandwiches:\n",
        "    print(sandwich)\n"
      ]
    },
    {
      "cell_type": "markdown",
      "metadata": {
        "id": "OaeQ5jpVwqsD"
      },
      "source": [
        "## Question 20\n",
        "**No Pastrami:** Using the list `sandwich_orders` from Question 19, make sure the sandwich `pastrami` appears in the list at least three times. Add code near the beginning of your program to print a message saying the deli has run out of pastrami, and then use a `while` loop to remove all occurrences of `pastrami` from `sandwich_orders`. Make sure no pastrami sandwiches end up in `finished_sandwiches`."
      ]
    },
    {
      "cell_type": "code",
      "execution_count": 2,
      "metadata": {
        "id": "PpC7AjJ5wqsD",
        "colab": {
          "base_uri": "https://localhost:8080/"
        },
        "outputId": "89bc9827-5a62-4a27-e0ff-c82c6b3c72de"
      },
      "outputs": [
        {
          "output_type": "stream",
          "name": "stdout",
          "text": [
            "Sorry, the deli has run out of pastrami.\n",
            "I made your ham and cheese sandwich.\n",
            "I made your turkey sandwich.\n",
            "I made your club sandwich.\n",
            "I made your veggie sandwich.\n",
            "\n",
            "Sandwiches made:\n",
            "ham and cheese\n",
            "turkey\n",
            "club\n",
            "veggie\n"
          ]
        }
      ],
      "source": [
        "sandwich_orders = ['ham and cheese', 'pastrami', 'turkey', 'club', 'pastrami', 'veggie', 'pastrami']\n",
        "finished_sandwiches = []\n",
        "\n",
        "print(\"Sorry, the deli has run out of pastrami.\")\n",
        "\n",
        "while 'pastrami' in sandwich_orders:\n",
        "    sandwich_orders.remove('pastrami')\n",
        "\n",
        "while sandwich_orders:\n",
        "    current_sandwich = sandwich_orders.pop(0)\n",
        "    print(f\"I made your {current_sandwich} sandwich.\")\n",
        "    finished_sandwiches.append(current_sandwich)\n",
        "\n",
        "print(\"\\nSandwiches made:\")\n",
        "for sandwich in finished_sandwiches:\n",
        "    print(sandwich)\n"
      ]
    },
    {
      "cell_type": "markdown",
      "metadata": {
        "id": "nLrL2k6swqsD"
      },
      "source": [
        "## Question 21\n",
        "**Dream Vacation:** Write a program that polls users about their dream vacation. Write a prompt similar to *If you could visit one place in the world, where would you go?* Include a block of code that prints the results of the poll."
      ]
    },
    {
      "cell_type": "code",
      "execution_count": 1,
      "metadata": {
        "id": "N9AElELCwqsD",
        "colab": {
          "base_uri": "https://localhost:8080/"
        },
        "outputId": "6a4fdfca-3379-4c67-ca9f-320f955a0ae5"
      },
      "outputs": [
        {
          "output_type": "stream",
          "name": "stdout",
          "text": [
            "If you could visit one place in the world, where would you go? (Type 'quit' to exit) italy\n",
            "If you could visit one place in the world, where would you go? (Type 'quit' to exit) quit\n",
            "\n",
            "Dream Vacation Poll Results:\n",
            "1. italy\n"
          ]
        }
      ],
      "source": [
        "\n",
        "dream_vacations = []\n",
        "\n",
        "\n",
        "while True:\n",
        "    destination = input(\"If you could visit one place in the world, where would you go? (Type 'quit' to exit) \")\n",
        "    if destination.lower() == 'quit':\n",
        "        break\n",
        "    dream_vacations.append(destination)\n",
        "\n",
        "print(\"\\nDream Vacation Poll Results:\")\n",
        "for index, destination in enumerate(dream_vacations, start=1):\n",
        "    print(f\"{index}. {destination}\")\n"
      ]
    }
  ],
  "metadata": {
    "kernelspec": {
      "display_name": "Python 3 (ipykernel)",
      "language": "python",
      "name": "python3"
    },
    "language_info": {
      "codemirror_mode": {
        "name": "ipython",
        "version": 3
      },
      "file_extension": ".py",
      "mimetype": "text/x-python",
      "name": "python",
      "nbconvert_exporter": "python",
      "pygments_lexer": "ipython3",
      "version": "3.8.10"
    },
    "colab": {
      "provenance": []
    }
  },
  "nbformat": 4,
  "nbformat_minor": 0
}