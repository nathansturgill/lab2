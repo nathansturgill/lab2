{
  "cells": [
    {
      "cell_type": "markdown",
      "metadata": {
        "id": "YqazxfgYYnyo"
      },
      "source": [
        "[![image](https://colab.research.google.com/assets/colab-badge.svg)](https://colab.research.google.com/github/giswqs/geog-312/blob/master/labs/lab_06.ipynb)\n",
        "[![image](https://binder.pangeo.io/badge_logo.svg)](https://gishub.org/geog312-pangeo)\n",
        "\n",
        "**Firstname Lastname**"
      ]
    },
    {
      "cell_type": "code",
      "execution_count": null,
      "metadata": {
        "id": "tF8t6n2yYnys"
      },
      "outputs": [],
      "source": [
        "from datetime import datetime\n",
        "\n",
        "now = datetime.now()\n",
        "print(f\"Submitted time: {now}\")"
      ]
    },
    {
      "cell_type": "markdown",
      "metadata": {
        "id": "kz1__q0OYnyu"
      },
      "source": [
        "## Question 1\n",
        "**Message:** Write a function called `display_message()` that prints one sentence telling everyone what you are learning about in this chapter. Call the function, and make sure the message displays correctly."
      ]
    },
    {
      "cell_type": "code",
      "execution_count": 5,
      "metadata": {
        "colab": {
          "base_uri": "https://localhost:8080/"
        },
        "id": "cMDwoYKmYnyv",
        "outputId": "bdbdeb63-39da-4955-c713-c6cc9688e893"
      },
      "outputs": [
        {
          "output_type": "stream",
          "name": "stdout",
          "text": [
            "we are learning the basics of python and how to code\n"
          ]
        }
      ],
      "source": [
        "def display_message():\n",
        "  print('we are learning the basics of python and how to code')\n",
        "display_message()"
      ]
    },
    {
      "cell_type": "markdown",
      "metadata": {
        "id": "41ni1SFEYnyv"
      },
      "source": [
        "## Question 2\n",
        "**Favorite Book:** Write a function called `favorite_book()` that accepts one parameter, title. The function should print a message, such as `One of my favorite books is Alice in Wonderland`. Call the function, making sure to include a book title as an argument in the function call."
      ]
    },
    {
      "cell_type": "code",
      "execution_count": 9,
      "metadata": {
        "colab": {
          "base_uri": "https://localhost:8080/"
        },
        "id": "W21AZ0tYYnyv",
        "outputId": "9bb41907-7e3b-4ac6-feea-80d4334ecfc3"
      },
      "outputs": [
        {
          "output_type": "stream",
          "name": "stdout",
          "text": [
            "One of my favorite books is 1984.\n"
          ]
        }
      ],
      "source": [
        "def favorite_book(title):\n",
        "    print(f\"One of my favorite books is {title}.\")\n",
        "favorite_book(\"1984\")\n"
      ]
    },
    {
      "cell_type": "markdown",
      "metadata": {
        "id": "VbeevkN4Ynyv"
      },
      "source": [
        "## Question 3\n",
        "**T-Shirt:** Write a function called `make_shirt()` that accepts a size and the text of a message that should be printed on the shirt. The function should print a sentence summarizing the size of the shirt and the message printed on it.\n",
        "\n",
        "Call the function once using positional arguments to make a shirt. Call the function a second time using keyword arguments."
      ]
    },
    {
      "cell_type": "code",
      "execution_count": 11,
      "metadata": {
        "colab": {
          "base_uri": "https://localhost:8080/"
        },
        "id": "L9BLdr9RYnyw",
        "outputId": "658c019b-a1ae-4160-b979-a9e446109d1a"
      },
      "outputs": [
        {
          "output_type": "stream",
          "name": "stdout",
          "text": [
            "make a medium-sized shirt with the message: hey yall!\n",
            "make a large-sized shirt with the message: go buckeyes\n"
          ]
        }
      ],
      "source": [
        "def make_shirt(size, message):\n",
        "    print(f\"make a {size}-sized shirt with the message: {message}\")\n",
        "\n",
        "make_shirt(\"medium\", \"hey yall!\")\n",
        "\n",
        "make_shirt(size=\"large\", message=\"go buckeyes\")\n"
      ]
    },
    {
      "cell_type": "markdown",
      "metadata": {
        "id": "0sZvfgUYYnyw"
      },
      "source": [
        "## Question 4\n",
        "**Large Shirts:** Modify the `make_shirt()` function so that shirts are large by default with a message that reads *I love Python*. Make a large shirt and a medium shirt with the default message, and a shirt of any size with a different message."
      ]
    },
    {
      "cell_type": "code",
      "execution_count": 13,
      "metadata": {
        "colab": {
          "base_uri": "https://localhost:8080/"
        },
        "id": "zNB3fGZ_Ynyy",
        "outputId": "462f160d-157e-4276-fb18-4f48f0a616f9"
      },
      "outputs": [
        {
          "output_type": "stream",
          "name": "stdout",
          "text": [
            "Making a large-sized shirt with the message: I love Python\n",
            "Making a Medium-sized shirt with the message: I love Python\n",
            "Making a Small-sized shirt with the message: go buckeyes!\n"
          ]
        }
      ],
      "source": [
        "def make_shirt(size=\"Large\", message=\"I love Python\"):\n",
        "    print(f\"Making a {size}-sized shirt with the message: {message}\")\n",
        "make_shirt(size=\"large\")\n",
        "make_shirt(size=\"Medium\")\n",
        "make_shirt(size=\"Small\", message=\"go buckeyes!\")\n"
      ]
    },
    {
      "cell_type": "markdown",
      "metadata": {
        "id": "tufPSAg7Ynyy"
      },
      "source": [
        "## Question 5\n",
        "**Cities:** Write a function called `describe_city()` that accepts the name of a city and its country. The function should print a simple sentence, such as `Reykjavik is in Iceland`. Give the parameter for the country a default value. Call your function for three different cities, at least one of which is not in the default country."
      ]
    },
    {
      "cell_type": "code",
      "execution_count": 15,
      "metadata": {
        "colab": {
          "base_uri": "https://localhost:8080/"
        },
        "id": "W3YGWV07Ynyy",
        "outputId": "b578797c-b59a-4005-ae6a-d2784882e6cf"
      },
      "outputs": [
        {
          "output_type": "stream",
          "name": "stdout",
          "text": [
            "Chicago is in USA.\n",
            "Reykjavik is in Iceland.\n",
            "Tokyo is in Japan.\n",
            "Munich is in Germany.\n"
          ]
        }
      ],
      "source": [
        "def describe_city(city, country=\"USA\"):\n",
        "    print(f\"{city} is in {country}.\")\n",
        "\n",
        "describe_city(\"Chicago\")\n",
        "describe_city(\"Reykjavik\", \"Iceland\")\n",
        "describe_city(\"Tokyo\", \"Japan\")\n",
        "describe_city(\"Munich\",\"Germany\")\n"
      ]
    },
    {
      "cell_type": "markdown",
      "metadata": {
        "id": "gnWUf4xjYnyy"
      },
      "source": [
        "## Question 6\n",
        "**City Names:** Write a function called `city_country()` that takes in the name of a city and its country. The function should return a string formatted like this:\n",
        "```\n",
        "Santiago, Chile\n",
        "```\n",
        "Call your function with at least three city-country pairs, and print the values that are returned."
      ]
    },
    {
      "cell_type": "code",
      "execution_count": 18,
      "metadata": {
        "colab": {
          "base_uri": "https://localhost:8080/"
        },
        "id": "6euVcZ6-Ynyz",
        "outputId": "759821ce-bf50-40e7-8ea3-a0015511db38"
      },
      "outputs": [
        {
          "output_type": "stream",
          "name": "stdout",
          "text": [
            "Rome, Italy\n",
            "Paris, France\n",
            "New York, USA\n"
          ]
        }
      ],
      "source": [
        "def city_country(city, country):\n",
        "    return f\"{city}, {country}\"\n",
        "\n",
        "print(city_country(\"Rome\", \"Italy\"))\n",
        "print(city_country(\"Paris\", \"France\"))\n",
        "print(city_country(\"New York\", \"USA\"))\n"
      ]
    },
    {
      "cell_type": "markdown",
      "metadata": {
        "id": "-52X-fBKYnyz"
      },
      "source": [
        "## Question 7\n",
        "**Album:** Write a function called `make_album()` that builds a dictionary describing a music album. The function should take in an artist name and an album title, and it should return a dictionary containing these two pieces of information. Use the function to make three dictionaries representing different albums. Print each return value to show that the dictionaries are storing the album information correctly.\n",
        "\n",
        "Use None to add an optional parameter to make_album() that allows you to store the number of songs on an album. If the calling line includes a value for the number of songs, add that value to the album’s dictionary. Make at least one new function call that includes the number of songs on an album."
      ]
    },
    {
      "cell_type": "code",
      "execution_count": 23,
      "metadata": {
        "colab": {
          "base_uri": "https://localhost:8080/"
        },
        "id": "haAdkD7zYny0",
        "outputId": "26955ee4-85c5-4c24-bdf0-b798a82cb189"
      },
      "outputs": [
        {
          "output_type": "stream",
          "name": "stdout",
          "text": [
            "{'artist': 'grateful dead', 'album_title': 'working mans dead', 'num_songs': 12}\n",
            "{'artist': 'Jay Z', 'album_title': 'blueprint', 'num_songs': 14}\n",
            "{'artist': 'Nas', 'album_title': 'Illmatic', 'num_songs': 10}\n"
          ]
        }
      ],
      "source": [
        "def make_album(artist, album_title, num_songs=None):\n",
        "    album = { \"artist\": artist,\n",
        "        \"album_title\": album_title}\n",
        "    if num_songs:\n",
        "        album[\"num_songs\"] = num_songs\n",
        "    return album\n",
        "album1 = make_album(\"grateful dead\", \"working mans dead\", 12)\n",
        "album2 = make_album(\"Jay Z\", \"blueprint\", 14)\n",
        "album3 = make_album(\"Nas\", \"Illmatic\", 10)\n",
        "print(album1)\n",
        "print(album2)\n",
        "print(album3)\n"
      ]
    },
    {
      "cell_type": "markdown",
      "metadata": {
        "id": "0u2CCdDeYny0"
      },
      "source": [
        "## Question 8\n",
        "**User Albums:** Start with your program from Question 7. Write a `while` loop that allows users to enter an album’s artist and title. Once you have that information, call `make_album()` with the user’s input and print the dictionary that’s created. Be sure to include a quit value in the `while` loop."
      ]
    },
    {
      "cell_type": "code",
      "execution_count": 25,
      "metadata": {
        "colab": {
          "base_uri": "https://localhost:8080/"
        },
        "id": "ELeN83duYny0",
        "outputId": "f6d0021c-4a44-47dd-b3ee-598066ec63c9"
      },
      "outputs": [
        {
          "name": "stdout",
          "output_type": "stream",
          "text": [
            "Enter album details (or 'q' to quit):\n",
            "Artist: jay z\n",
            "Album Title: blueprint\n",
            "Number of Songs (optional, enter 'q' to skip): 14\n",
            "Album information: {'artist': 'jay z', 'album_title': 'blueprint', 'num_songs': 14}\n",
            "Enter album details (or 'q' to quit):\n",
            "Artist: q\n"
          ]
        }
      ],
      "source": [
        "def make_album(artist, album_title, num_songs=None):\n",
        "    album = {\n",
        "        \"artist\": artist,\n",
        "        \"album_title\": album_title}\n",
        "    if num_songs:\n",
        "        album[\"num_songs\"] = num_songs\n",
        "    return album\n",
        "\n",
        "while True:\n",
        "    print(\"Enter album details (or 'q' to quit):\")\n",
        "    artist = input(\"Artist: \")\n",
        "    if artist.lower() == 'q':\n",
        "        break\n",
        "\n",
        "    album_title = input(\"Album Title: \")\n",
        "    if album_title.lower() == 'q':\n",
        "        break\n",
        "\n",
        "    num_songs = input(\"Number of Songs (optional, enter 'q' to skip): \")\n",
        "    if num_songs.lower() == 'q':\n",
        "        break\n",
        "    elif num_songs.isdigit():\n",
        "        num_songs = int(num_songs)\n",
        "    else:\n",
        "        num_songs = None\n",
        "\n",
        "    album_info = make_album(artist, album_title, num_songs)\n",
        "    print(\"Album information:\", album_info)\n",
        "\n"
      ]
    },
    {
      "cell_type": "markdown",
      "metadata": {
        "id": "PkLTjigIYny0"
      },
      "source": [
        "## Question 9\n",
        "**Messages:** Make a list containing a series of short text messages. Pass the list to a function called `show_messages()`, which prints each text message."
      ]
    },
    {
      "cell_type": "code",
      "execution_count": 27,
      "metadata": {
        "colab": {
          "base_uri": "https://localhost:8080/"
        },
        "id": "sPipsONgYny1",
        "outputId": "b58d0b13-8d49-4062-b1c5-41dc1d256884"
      },
      "outputs": [
        {
          "output_type": "stream",
          "name": "stdout",
          "text": [
            "hey! what up?\n",
            "don't forget our meeting tomorrow.\n",
            "just wanted to reach out!\n",
            "whats up\n"
          ]
        }
      ],
      "source": [
        "def show_messages(messages):\n",
        "    for message in messages:\n",
        "        print(message)\n",
        "text_messages = [\n",
        "    \"hey! what up?\",\n",
        "    \"don't forget our meeting tomorrow.\",\n",
        "    \"just wanted to reach out!\",\n",
        "    \"whats up\"]\n",
        "show_messages(text_messages)\n"
      ]
    },
    {
      "cell_type": "markdown",
      "metadata": {
        "id": "mhnjk3CyYny1"
      },
      "source": [
        "## Question 10\n",
        "**Sending Messages:** Start with a copy of your program from Question 9. Write a function called `send_messages()` that prints each text message and moves each message to a new list called `sent_messages` as it’s printed. After calling the function, print both of your lists to make sure the messages were moved correctly."
      ]
    },
    {
      "cell_type": "code",
      "execution_count": 30,
      "metadata": {
        "colab": {
          "base_uri": "https://localhost:8080/"
        },
        "id": "hcqbiArnYny1",
        "outputId": "316c0cf2-8964-4872-9e39-1d0e36b05a3a"
      },
      "outputs": [
        {
          "output_type": "stream",
          "name": "stdout",
          "text": [
            "hey! what up?\n",
            "don't forget our meeting tomorrow.\n",
            "just wanted to reach out!\n",
            "whats up\n",
            "hey! what up?\n",
            "don't forget our meeting tomorrow.\n",
            "just wanted to reach out!\n",
            "whats up\n",
            "Original messages: ['hey! what up?', \"don't forget our meeting tomorrow.\", 'just wanted to reach out!', 'whats up']\n",
            "Sent messages: ['hey! what up?', \"don't forget our meeting tomorrow.\", 'just wanted to reach out!', 'whats up']\n"
          ]
        }
      ],
      "source": [
        "#this is the code from number 9\n",
        "def show_messages(messages):\n",
        "    for message in messages:\n",
        "        print(message)\n",
        "text_messages = [\n",
        "    \"hey! what up?\",\n",
        "    \"don't forget our meeting tomorrow.\",\n",
        "    \"just wanted to reach out!\",\n",
        "    \"whats up\"]\n",
        "show_messages(text_messages)\n",
        "\n",
        "def send_messages(messages, sent_messages):\n",
        "    for message in messages:\n",
        "        print(message)\n",
        "        sent_messages.append(message)\n",
        "text_messages = [\n",
        "    \"hey! what up?\",\n",
        "    \"don't forget our meeting tomorrow.\",\n",
        "    \"just wanted to reach out!\",\n",
        "    \"whats up\"]\n",
        "sent_messages = []\n",
        "send_messages(text_messages, sent_messages)\n",
        "print(\"Original messages:\", text_messages)\n",
        "print(\"Sent messages:\", sent_messages)\n"
      ]
    },
    {
      "cell_type": "markdown",
      "metadata": {
        "id": "siJ6laEUYny1"
      },
      "source": [
        "## Question 11\n",
        "**Archived Messages:** Start with your work from Question 10. Call the function `send_messages()` with a copy of the list of messages. After calling the function, print both of your lists to show that the original list has retained its messages."
      ]
    },
    {
      "cell_type": "code",
      "execution_count": 31,
      "metadata": {
        "colab": {
          "base_uri": "https://localhost:8080/"
        },
        "id": "YYV7kfBrYny1",
        "outputId": "32984e46-ee8f-4848-a85c-a2943719f354"
      },
      "outputs": [
        {
          "output_type": "stream",
          "name": "stdout",
          "text": [
            "hey! what up?\n",
            "don't forget our meeting tomorrow.\n",
            "just wanted to reach out!\n",
            "whats up\n",
            "Original messages: ['hey! what up?', \"don't forget our meeting tomorrow.\", 'just wanted to reach out!', 'whats up']\n",
            "Sent messages: ['hey! what up?', \"don't forget our meeting tomorrow.\", 'just wanted to reach out!', 'whats up']\n"
          ]
        }
      ],
      "source": [
        "def send_messages(messages, sent_messages):\n",
        "    for message in messages:\n",
        "        print(message)\n",
        "        sent_messages.append(message)\n",
        "text_messages = [\n",
        "    \"hey! what up?\",\n",
        "    \"don't forget our meeting tomorrow.\",\n",
        "    \"just wanted to reach out!\",\n",
        "    \"whats up\"]\n",
        "original_messages = text_messages.copy()\n",
        "sent_messages = []\n",
        "send_messages(text_messages, sent_messages)\n",
        "print(\"Original messages:\", original_messages)\n",
        "print(\"Sent messages:\", sent_messages)\n"
      ]
    },
    {
      "cell_type": "markdown",
      "metadata": {
        "id": "Uz3bOMHGYny2"
      },
      "source": [
        "## Question 12\n",
        "**Sandwiches:** Write a function that accepts a list of items a person wants on a sandwich. The function should have one parameter that collects as many items as the function call provides, and it should print a summary of the sandwich that’s being ordered. Call the function three times, using a different number of arguments each time."
      ]
    },
    {
      "cell_type": "code",
      "execution_count": 34,
      "metadata": {
        "colab": {
          "base_uri": "https://localhost:8080/"
        },
        "id": "_njgUSXJYny2",
        "outputId": "dd20ec07-b22e-4c7d-941f-e9c16a35f770"
      },
      "outputs": [
        {
          "output_type": "stream",
          "name": "stdout",
          "text": [
            "Making a sandwich with the following items:\n",
            "ham\n",
            "cheese\n",
            "Making a sandwich with the following items:\n",
            "turkey\n",
            "swiss Cheese\n",
            "Making a sandwich with the following items:\n",
            "peanut butter\n",
            "jelly\n"
          ]
        }
      ],
      "source": [
        "def make_sandwich(*items):\n",
        "    print(\"Making a sandwich with the following items:\")\n",
        "    for item in items:\n",
        "        print(item)\n",
        "make_sandwich(\"ham\", \"cheese\")\n",
        "make_sandwich(\"turkey\", \"swiss Cheese\")\n",
        "make_sandwich(\"peanut butter\", \"jelly\")\n"
      ]
    },
    {
      "cell_type": "markdown",
      "metadata": {
        "id": "FNg7rrnrYny2"
      },
      "source": [
        "## Question 13\n",
        "**Cars:** Write a function that stores information about a car in a dictionary. The function should always receive a manufacturer and a model name. It should then accept an arbitrary number of keyword arguments. Call the function with the required information and two other name-value pairs, such as a color or an optional feature. Your function should work for a call like this one:\n",
        "```\n",
        "car = make_car('subaru', 'outback', color='blue', tow_package=True)\n",
        "```\n",
        "Print the dictionary that’s returned to make sure all the information was stored correctly."
      ]
    },
    {
      "cell_type": "code",
      "execution_count": 36,
      "metadata": {
        "colab": {
          "base_uri": "https://localhost:8080/"
        },
        "id": "xiWwi0ZfYny2",
        "outputId": "a6d81e47-3ddc-4474-9ec7-8e5fa11dad31"
      },
      "outputs": [
        {
          "output_type": "stream",
          "name": "stdout",
          "text": [
            "{'manufacturer': 'mazda', 'model': 'miata', 'color': 'black', 'tow_package': False}\n"
          ]
        }
      ],
      "source": [
        "def make_car(manufacturer, model, **kwargs):\n",
        "    car_info = {\n",
        "        \"manufacturer\": manufacturer,\n",
        "        \"model\": model}\n",
        "    car_info.update(**kwargs)\n",
        "    return car_info\n",
        "car = make_car('mazda', 'miata', color='black', tow_package=False)\n",
        "print(car)\n"
      ]
    },
    {
      "cell_type": "markdown",
      "metadata": {
        "id": "SQ1t-Y4kYny3"
      },
      "source": [
        "## Question 14\n",
        "**Restaurant:** Make a class called `Restaurant`. The `__init__()` method for `Restaurant` should store two attributes: a `restaurant_name` and a `cuisine_type`. Make a method called `describe_restaurant()` that prints these two pieces of information, and a method called `open_restaurant()` that prints a message indicating that the restaurant is open.\n",
        "\n",
        "Make an instance called `restaurant` from your class. Print the two attributes individually, and then call both methods."
      ]
    },
    {
      "cell_type": "code",
      "execution_count": 49,
      "metadata": {
        "colab": {
          "base_uri": "https://localhost:8080/"
        },
        "id": "aATOl61vYny3",
        "outputId": "29f0b0bf-a68e-47e9-f053-8173fb025f78"
      },
      "outputs": [
        {
          "output_type": "stream",
          "name": "stdout",
          "text": [
            "Restaurant Name: amattos\n",
            "Cuisine Type: italian/mexican\n",
            "Restaurant Name: amattos\n",
            "Cuisine Type: italian/mexican\n",
            "amattos is now open\n"
          ]
        }
      ],
      "source": [
        "class Restaurant:\n",
        "    def __init__(self, restaurant_name, cuisine_type):\n",
        "        self.restaurant_name = restaurant_name\n",
        "        self.cuisine_type = cuisine_type\n",
        "\n",
        "    def describe_restaurant(self):\n",
        "        print(f\"Restaurant Name: {self.restaurant_name}\")\n",
        "        print(f\"Cuisine Type: {self.cuisine_type}\")\n",
        "\n",
        "    def open_restaurant(self):\n",
        "        print(f\"{self.restaurant_name} is now open\")\n",
        "restaurant = Restaurant(\"amattos\", \"italian/mexican\")\n",
        "print(\"Restaurant Name:\", restaurant.restaurant_name)\n",
        "print(\"Cuisine Type:\", restaurant.cuisine_type)\n",
        "restaurant.describe_restaurant()\n",
        "\n",
        "\n",
        "restaurant.open_restaurant()\n"
      ]
    },
    {
      "cell_type": "markdown",
      "metadata": {
        "id": "nl0UdRFEYny3"
      },
      "source": [
        "## Question 15\n",
        "**Three Restaurants:** Start with your class from Question 14. Create three different instances from the class, and call `describe_restaurant()` for each instance."
      ]
    },
    {
      "cell_type": "code",
      "execution_count": 50,
      "metadata": {
        "colab": {
          "base_uri": "https://localhost:8080/"
        },
        "id": "7SXRRWhZYny3",
        "outputId": "cf731195-67cf-42e3-a6ce-41624fae8b2a"
      },
      "outputs": [
        {
          "output_type": "stream",
          "name": "stdout",
          "text": [
            "Restaurant 1:\n",
            "Restaurant Name: cafe du monde\n",
            "Cuisine Type: french cuisine\n",
            "\n",
            "Restaurant 2:\n",
            "Restaurant Name: yamato\n",
            "Cuisine Type: japanese cuisine\n",
            "\n",
            "Restaurant 3:\n",
            "Restaurant Name: barwachi\n",
            "Cuisine Type: indian Cuisine\n"
          ]
        }
      ],
      "source": [
        "class Restaurant:\n",
        "    def __init__(self, restaurant_name, cuisine_type):\n",
        "        self.restaurant_name = restaurant_name\n",
        "        self.cuisine_type = cuisine_type\n",
        "\n",
        "    def describe_restaurant(self):\n",
        "        print(f\"Restaurant Name: {self.restaurant_name}\")\n",
        "        print(f\"Cuisine Type: {self.cuisine_type}\")\n",
        "\n",
        "    def open_restaurant(self):\n",
        "        print(f\"{self.restaurant_name} is now open\")\n",
        "\n",
        "restaurant1 = Restaurant(\"cafe du monde\", \"french cuisine\")\n",
        "restaurant2 = Restaurant(\"yamato\", \"japanese cuisine\")\n",
        "restaurant3 = Restaurant(\"barwachi\", \"indian Cuisine\")\n",
        "\n",
        "print(\"Restaurant 1:\")\n",
        "restaurant1.describe_restaurant()\n",
        "\n",
        "print(\"\\nRestaurant 2:\")\n",
        "restaurant2.describe_restaurant()\n",
        "\n",
        "print(\"\\nRestaurant 3:\")\n",
        "restaurant3.describe_restaurant()\n"
      ]
    },
    {
      "cell_type": "markdown",
      "metadata": {
        "id": "mXgHt4gpYny3"
      },
      "source": [
        "## Question 16\n",
        "**Users:** Make a class called `User`. Create two attributes called `first_name` and `last_name`, and then create several other attributes that are typically stored in a user profile. Make a method called `describe_user()` that prints a summary of the user’s information. Make another method called `greet_user()` that prints a personalized greeting to the user.\n",
        "\n",
        "Create several instances representing different users, and call both methods for each user."
      ]
    },
    {
      "cell_type": "code",
      "execution_count": 51,
      "metadata": {
        "colab": {
          "base_uri": "https://localhost:8080/"
        },
        "id": "YBuJ4G5GYny4",
        "outputId": "77128610-272c-46f9-c1f8-304d1d4fa608"
      },
      "outputs": [
        {
          "output_type": "stream",
          "name": "stdout",
          "text": [
            "User Information:\n",
            "First Name: james\n",
            "Last Name: gum\n",
            "Age: 30\n",
            "Location: new york\n",
            "Occupation: Engineer\n",
            "Hello, james gum, welcome.\n",
            "User Information:\n",
            "First Name: stella\n",
            "Last Name: sturgill\n",
            "Age: 25\n",
            "Location: milwaukee\n",
            "Occupation: Analyst\n",
            "Hello, stella sturgill, welcome.\n",
            "User Information:\n",
            "First Name: michael\n",
            "Last Name: jordan\n",
            "Age: 35\n",
            "Location: chicago\n",
            "Occupation:  Manager\n",
            "Hello, michael jordan, welcome.\n"
          ]
        }
      ],
      "source": [
        "class User:\n",
        "    def __init__(self, first_name, last_name, age, location, occupation):\n",
        "        self.first_name = first_name\n",
        "        self.last_name = last_name\n",
        "        self.age = age\n",
        "        self.location = location\n",
        "        self.occupation = occupation\n",
        "\n",
        "    def describe_user(self):\n",
        "        print(\"User Information:\")\n",
        "        print(f\"First Name: {self.first_name}\")\n",
        "        print(f\"Last Name: {self.last_name}\")\n",
        "        print(f\"Age: {self.age}\")\n",
        "        print(f\"Location: {self.location}\")\n",
        "        print(f\"Occupation: {self.occupation}\")\n",
        "\n",
        "    def greet_user(self):\n",
        "        print(f\"Hello, {self.first_name} {self.last_name}, welcome.\")\n",
        "\n",
        "user1 = User(\"james\", \"gum\", 30, \"new york\", \"Engineer\")\n",
        "user2 = User(\"stella\", \"sturgill\", 25, \"milwaukee\", \"Analyst\")\n",
        "user3 = User(\"michael\", \"jordan\", 35, \"chicago\", \" Manager\")\n",
        "\n",
        "user1.describe_user()\n",
        "user1.greet_user()\n",
        "\n",
        "user2.describe_user()\n",
        "user2.greet_user()\n",
        "\n",
        "user3.describe_user()\n",
        "user3.greet_user()\n"
      ]
    },
    {
      "cell_type": "markdown",
      "metadata": {
        "id": "sCgYB9SrYny4"
      },
      "source": [
        "## Question 17\n",
        "**Number Served:** Start with your program from Question 14. Add an attribute called `number_served` with a default value of 0. Create an instance called `restaurant` from this class. Print the number of customers the restaurant has served, and then change this value and print it again.\n",
        "\n",
        "Add a method called `set_number_served()` that lets you set the number of customers that have been served. Call this method with a new number and print the value again.\n",
        "\n",
        "Add a method called `increment_number_served()` that lets you increment the number of customers who’ve been served.\n",
        "\n",
        "Call this method with any number you like that could represent how many customers were served in, say, a day of business."
      ]
    },
    {
      "cell_type": "code",
      "execution_count": 2,
      "metadata": {
        "colab": {
          "base_uri": "https://localhost:8080/"
        },
        "id": "2hHoeP1pYny4",
        "outputId": "ebb5bf7b-f6b8-4f59-e546-72e5919251c9"
      },
      "outputs": [
        {
          "output_type": "stream",
          "name": "stdout",
          "text": [
            "Initial Number of Customers Served: 0\n",
            "Updated Number of Customers Served: 25\n",
            "Number of Customers Served after set_number_served(): 90\n",
            "Number of Customers Served after increment_number_served(): 117\n"
          ]
        }
      ],
      "source": [
        "class Restaurant:\n",
        "    def __init__(self, restaurant_name, cuisine_type):\n",
        "        self.restaurant_name = restaurant_name\n",
        "        self.cuisine_type = cuisine_type\n",
        "        self.number_served = 0\n",
        "\n",
        "    def describe_restaurant(self):\n",
        "        print(f\"Restaurant Name: {self.restaurant_name}\")\n",
        "        print(f\"Cuisine Type: {self.cuisine_type}\")\n",
        "        print(f\"Number of Customers Served: {self.number_served}\")\n",
        "\n",
        "    def open_restaurant(self):\n",
        "        print(f\"{self.restaurant_name} is now open!\")\n",
        "\n",
        "    def set_number_served(self, number):\n",
        "        self.number_served = number\n",
        "\n",
        "    def increment_number_served(self, increment):\n",
        "        self.number_served += increment\n",
        "\n",
        "restaurant = Restaurant(\"amattos\", \"italian\")\n",
        "\n",
        "print(\"Initial Number of Customers Served:\", restaurant.number_served)\n",
        "\n",
        "restaurant.number_served = 25\n",
        "print(\"Updated Number of Customers Served:\", restaurant.number_served)\n",
        "\n",
        "restaurant.set_number_served(90)\n",
        "print(\"Number of Customers Served after set_number_served():\", restaurant.number_served)\n",
        "\n",
        "restaurant.increment_number_served(27)\n",
        "print(\"Number of Customers Served after increment_number_served():\", restaurant.number_served)\n"
      ]
    },
    {
      "cell_type": "markdown",
      "metadata": {
        "id": "O4aVRBwRYny4"
      },
      "source": [
        "## Question 18\n",
        "**Login Attempts:** Add an attribute called login_attempts to your User class from Question 16. Write a method called `increment_login_attempts()` that increments the value of `login_attempts` by 1. Write another method called `reset_login_attempts()` that resets the value of login_attempts to 0.\n",
        "\n",
        "Make an instance of the `User` class and call `increment_login_attempts()` several times. Print the value of `login_attempts` to make sure it was incremented properly, and then call `reset_login_attempts()`. Print `login_attempts` again to make sure it was reset to 0."
      ]
    },
    {
      "cell_type": "code",
      "execution_count": 10,
      "metadata": {
        "colab": {
          "base_uri": "https://localhost:8080/"
        },
        "id": "Flbc2lJzYny4",
        "outputId": "feeaf68f-3392-438d-bd7b-3846a721e1ec"
      },
      "outputs": [
        {
          "output_type": "stream",
          "name": "stdout",
          "text": [
            "Login Attempts: 3\n",
            "Login Attempts after reset: 0\n"
          ]
        }
      ],
      "source": [
        "   class User:\n",
        "\n",
        "    def __init__(self, first_name, last_name, age, location, occupation):\n",
        "        self.first_name = first_name\n",
        "        self.last_name = last_name\n",
        "        self.age = age\n",
        "        self.location = location\n",
        "        self.occupation = occupation\n",
        "        self.login_attempts = 0\n",
        "\n",
        "    def describe_user(self):\n",
        "        print(\"User Information:\")\n",
        "        print(f\"First Name: {self.first_name}\")\n",
        "        print(f\"Last Name: {self.last_name}\")\n",
        "        print(f\"Age: {self.age}\")\n",
        "        print(f\"Location: {self.location}\")\n",
        "        print(f\"Occupation: {self.occupation}\")\n",
        "\n",
        "    def increment_login_attempts(self):\n",
        "        self.login_attempts += 1\n",
        "\n",
        "    def reset_login_attempts(self):\n",
        "        self.login_attempts = 0\n",
        "\n",
        "user = User(\"aiden\", \"kammler\", 30, \"portsmouth\", \"plastics technician\")\n",
        "\n",
        "user.increment_login_attempts()\n",
        "user.increment_login_attempts()\n",
        "user.increment_login_attempts()\n",
        "print(\"Login Attempts:\", user.login_attempts)\n",
        "\n",
        "user.reset_login_attempts()\n",
        "print(\"Login Attempts after reset:\", user.login_attempts)\n"
      ]
    },
    {
      "cell_type": "markdown",
      "metadata": {
        "id": "5Wgx4pddYny4"
      },
      "source": [
        "## Question 19\n",
        "**Dice:** Make a class `Die` with one attribute called `sides`, which has a default value of 6. Write a method called `roll_die()` that prints a random number between 1 and the number of sides the die has. Make a 6-sided die and roll it 10 times.\n",
        "\n",
        "Make a 10-sided die and a 20-sided die. Roll each die 10 times."
      ]
    },
    {
      "cell_type": "code",
      "execution_count": 20,
      "metadata": {
        "colab": {
          "base_uri": "https://localhost:8080/"
        },
        "id": "qxI6WB73Yny_",
        "outputId": "d5f80b2b-ff48-4570-ef2c-a7386a61a292"
      },
      "outputs": [
        {
          "output_type": "stream",
          "name": "stdout",
          "text": [
            "rolling a 6-sided die 10 times:\n",
            "3\n",
            "6\n",
            "6\n",
            "1\n",
            "1\n",
            "2\n",
            "5\n",
            "3\n",
            "6\n",
            "3\n",
            "\n",
            "rolling a 10-sided die 10 times:\n",
            "2\n",
            "9\n",
            "1\n",
            "3\n",
            "10\n",
            "8\n",
            "9\n",
            "4\n",
            "9\n",
            "6\n",
            "\n",
            "rolling a 20-sided die 10 times:\n",
            "17\n",
            "4\n",
            "2\n",
            "6\n",
            "19\n",
            "6\n",
            "13\n",
            "10\n",
            "8\n",
            "13\n"
          ]
        }
      ],
      "source": [
        " import random\n",
        "\n",
        "class Die:\n",
        "    def __init__(dice, sides=6):\n",
        "        dice.sides = sides\n",
        "\n",
        "    def roll_die(dice):\n",
        "        result = random.randint(1, dice.sides)\n",
        "        return result\n",
        "\n",
        "six_sided_die = Die()\n",
        "print(\"rolling a 6-sided die 10 times:\")\n",
        "for _ in range(10):\n",
        "    print(six_sided_die.roll_die())\n",
        "\n",
        "ten_sided_die = Die(sides=10)\n",
        "print(\"\\nrolling a 10-sided die 10 times:\")\n",
        "for _ in range(10):\n",
        "    print(ten_sided_die.roll_die())\n",
        "\n",
        "twenty_sided_die = Die(sides=20)\n",
        "print(\"\\nrolling a 20-sided die 10 times:\")\n",
        "for _ in range(10):\n",
        "    print(twenty_sided_die.roll_die())\n"
      ]
    },
    {
      "cell_type": "markdown",
      "metadata": {
        "id": "xdYAZm-zYny_"
      },
      "source": [
        "## Question 20\n",
        "**Lottery:** Make a list or tuple containing a series of 10 numbers and five letters. Randomly select four numbers or letters from the list and print a message saying that any ticket matching these four numbers or letters wins a prize.\n",
        "\n",
        "You can use a loop to see how hard it might be to win the kind of lottery you just modeled. Make a list or tuple called `my_ticket`. Write a loop that keeps pulling numbers until your ticket wins. Print a message reporting how many times the loop had to run to give you a winning ticket."
      ]
    },
    {
      "cell_type": "code",
      "execution_count": 29,
      "metadata": {
        "colab": {
          "base_uri": "https://localhost:8080/"
        },
        "id": "EF5xEB07Yny_",
        "outputId": "b6974467-ca83-441d-800c-23cc76515dcc"
      },
      "outputs": [
        {
          "output_type": "stream",
          "name": "stdout",
          "text": [
            "congrats homie! you've won the lottery!\n",
            "winning ticket: [2, 'a', 5, 6]\n",
            "your ticket: [2, 'a', 5, 6]\n",
            "total attempts: 333\n"
          ]
        }
      ],
      "source": [
        "import random\n",
        "\n",
        "ticket_pool = [1, 2, 3, 4, 5, 6, 7, 8, 9, 10, 'a', 'b', 'c', 'd', 'e']\n",
        "\n",
        "winning_ticket = random.sample(ticket_pool, 4)\n",
        "\n",
        "attempts = 0\n",
        "\n",
        "while True:\n",
        "    attempts += 1\n",
        "    my_ticket = random.sample(ticket_pool, 4)\n",
        "\n",
        "    if my_ticket == winning_ticket:\n",
        "        print(\"congrats homie! you've won the lottery!\")\n",
        "        print(\"winning ticket:\", winning_ticket)\n",
        "        print(\"your ticket:\", my_ticket)\n",
        "        print(\"total attempts:\", attempts)\n",
        "        break\n"
      ]
    }
  ],
  "metadata": {
    "kernelspec": {
      "display_name": "Python 3 (ipykernel)",
      "language": "python",
      "name": "python3"
    },
    "language_info": {
      "codemirror_mode": {
        "name": "ipython",
        "version": 3
      },
      "file_extension": ".py",
      "mimetype": "text/x-python",
      "name": "python",
      "nbconvert_exporter": "python",
      "pygments_lexer": "ipython3",
      "version": "3.8.10"
    },
    "colab": {
      "provenance": []
    }
  },
  "nbformat": 4,
  "nbformat_minor": 0
}