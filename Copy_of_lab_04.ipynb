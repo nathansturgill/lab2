{
  "cells": [
    {
      "cell_type": "markdown",
      "metadata": {
        "id": "qQ2ehTejin1U"
      },
      "source": [
        "[![image](https://colab.research.google.com/assets/colab-badge.svg)](https://colab.research.google.com/github/giswqs/geog-312/blob/master/labs/lab_04.ipynb)\n",
        "[![image](https://binder.pangeo.io/badge_logo.svg)](https://gishub.org/geog312-pangeo)\n",
        "\n",
        "**Firstname Lastname**"
      ]
    },
    {
      "cell_type": "code",
      "execution_count": null,
      "metadata": {
        "id": "wiE2m04Pin1d"
      },
      "outputs": [],
      "source": [
        "from datetime import datetime\n",
        "\n",
        "now = datetime.now()\n",
        "print(f\"Submitted time: {now}\")"
      ]
    },
    {
      "cell_type": "markdown",
      "metadata": {
        "id": "gVSkKKyfin1f"
      },
      "source": [
        "## Question 1\n",
        "**Alien Colors # 1:** Imagine an alien was just shot down in a game. Create a variable called `alien_color` and assign it a value of `green, yellow,` or `red`.\n",
        "\n",
        "* Write an if statement to test whether the alien’s color is green. If it is, print a message that the player just earned 5 points.\n",
        "* Write one version of this program that passes the if test and another that fails. (The version that fails will have no output.)"
      ]
    },
    {
      "cell_type": "code",
      "execution_count": null,
      "metadata": {
        "id": "8QHxvxcHin1f"
      },
      "outputs": [],
      "source": [
        "alien_color = \"green\""
      ]
    },
    {
      "cell_type": "code",
      "source": [
        "if alien_color == \"green\":\n",
        "    print(\"The player just earned 5 points.\")"
      ],
      "metadata": {
        "id": "LJ-XHlzilpu8",
        "outputId": "dd35ef7c-cb11-49fe-dcf1-589a5110a447",
        "colab": {
          "base_uri": "https://localhost:8080/"
        }
      },
      "execution_count": null,
      "outputs": [
        {
          "output_type": "stream",
          "name": "stdout",
          "text": [
            "The player just earned 5 points.\n"
          ]
        }
      ]
    },
    {
      "cell_type": "code",
      "source": [
        "alien_color=\"red\""
      ],
      "metadata": {
        "id": "QLDr8wBulsUy"
      },
      "execution_count": null,
      "outputs": []
    },
    {
      "cell_type": "code",
      "source": [
        "if alien_color == \"green\":\n",
        "    print(\"The player just earned 5 points.\")"
      ],
      "metadata": {
        "id": "LJwSg48-lzkq"
      },
      "execution_count": null,
      "outputs": []
    },
    {
      "cell_type": "markdown",
      "metadata": {
        "id": "zoEZ9iKdin1g"
      },
      "source": [
        "## Question 2\n",
        "**Alien Colors # 2:** Choose a color for an alien as you did in Question 1, and write an `if-else` chain.\n",
        "\n",
        "* If the alien’s color is green, print a statement that the player just earned 5 points for shooting the alien.\n",
        "* If the alien’s color isn’t green, print a statement that the player just earned 10 points.\n",
        "* Write one version of this program that runs the if block and another that runs the else block."
      ]
    },
    {
      "cell_type": "code",
      "execution_count": null,
      "metadata": {
        "id": "8pY9ww__in1g",
        "outputId": "f9f6ac9d-55d9-4c86-e065-4102a5a3b6ea",
        "colab": {
          "base_uri": "https://localhost:8080/"
        }
      },
      "outputs": [
        {
          "output_type": "stream",
          "name": "stdout",
          "text": [
            "The player just earned 5 points for shooting the alien.\n"
          ]
        }
      ],
      "source": [
        "alien_color = \"green\"\n",
        "if alien_color == \"green\":\n",
        "    print(\"The player just earned 5 points for shooting the alien.\")\n",
        "else:\n",
        "    print(\"The player just earned 10 points.\")"
      ]
    },
    {
      "cell_type": "code",
      "source": [
        "alien_color = \"red\"\n",
        "if alien_color == \"green\":\n",
        "    print(\"The player just earned 5 points for shooting the alien.\")\n",
        "else:\n",
        "    print(\"The player just earned 10 points.\")"
      ],
      "metadata": {
        "id": "jESH7RrzncvK",
        "outputId": "a76bb67f-5af9-408c-9bb8-a3538e72e549",
        "colab": {
          "base_uri": "https://localhost:8080/"
        }
      },
      "execution_count": null,
      "outputs": [
        {
          "output_type": "stream",
          "name": "stdout",
          "text": [
            "The player just earned 10 points.\n"
          ]
        }
      ]
    },
    {
      "cell_type": "markdown",
      "metadata": {
        "id": "X58P8W6Win1g"
      },
      "source": [
        "## Question 3\n",
        "**Alien Colors # 3:** Turn your `if-else` chain from Question 2 into an `if-elif-else` chain.\n",
        "\n",
        "* If the alien is green, print a message that the player earned 5 points.\n",
        "* If the alien is yellow, print a message that the player earned 10 points.\n",
        "* If the alien is red, print a message that the player earned 15 points.\n",
        "* Write three versions of this program, making sure each message is printed for the appropriate color alien."
      ]
    },
    {
      "cell_type": "code",
      "execution_count": null,
      "metadata": {
        "id": "x9SL2cMgin1h",
        "outputId": "2960785b-557a-46f5-913d-fc04c7c8f741",
        "colab": {
          "base_uri": "https://localhost:8080/"
        }
      },
      "outputs": [
        {
          "output_type": "stream",
          "name": "stdout",
          "text": [
            "The player just earned 5 points.\n"
          ]
        }
      ],
      "source": [
        "alien_color = \"green\"\n",
        "if alien_color == \"green\":\n",
        "    print(\"The player just earned 5 points.\")\n",
        "elif alien_color == \"yellow\":\n",
        "    print(\"The player just earned 10 points.\")\n",
        "else:\n",
        "    print(\"The player just earned 15 points.\")\n"
      ]
    },
    {
      "cell_type": "code",
      "source": [
        "alien_color = \"yellow\"\n",
        "\n",
        "if alien_color == \"green\":\n",
        "    print(\"The player just earned 5 points.\")\n",
        "elif alien_color == \"yellow\":\n",
        "    print(\"The player just earned 10 points.\")\n",
        "else:\n",
        "    print(\"The player just earned 15 points.\")\n"
      ],
      "metadata": {
        "id": "qda3_urcn3J6",
        "outputId": "43624337-e6bb-4df5-d39c-8da16e72bc91",
        "colab": {
          "base_uri": "https://localhost:8080/"
        }
      },
      "execution_count": null,
      "outputs": [
        {
          "output_type": "stream",
          "name": "stdout",
          "text": [
            "The player just earned 10 points.\n"
          ]
        }
      ]
    },
    {
      "cell_type": "code",
      "source": [
        "alien_color = \"red\"\n",
        "\n",
        "if alien_color == \"green\":\n",
        "    print(\"The player just earned 5 points.\")\n",
        "elif alien_color == \"yellow\":\n",
        "    print(\"The player just earned 10 points.\")\n",
        "else:\n",
        "    print(\"The player just earned 15 points.\")"
      ],
      "metadata": {
        "id": "5Qjvoq5ZoIA8",
        "outputId": "3a0bbbd3-6b68-41bc-9300-d8d71cec3f24",
        "colab": {
          "base_uri": "https://localhost:8080/"
        }
      },
      "execution_count": null,
      "outputs": [
        {
          "output_type": "stream",
          "name": "stdout",
          "text": [
            "The player just earned 15 points.\n"
          ]
        }
      ]
    },
    {
      "cell_type": "markdown",
      "metadata": {
        "id": "v8tIvXVnin1h"
      },
      "source": [
        "## Question 4\n",
        "**Stages of Life:** Write an `if-elif-else` chain that determines a person’s stage of life. Set a value for the variable `age`, and then:\n",
        "\n",
        "* If the person is less than 2 years old, print a message that the person is a baby.\n",
        "* If the person is at least 2 years old but less than 4, print a message that the person is a toddler.\n",
        "* If the person is at least 4 years old but less than 13, print a message that the person is a kid.\n",
        "* If the person is at least 13 years old but less than 20, print a message that the person is a teenager.\n",
        "* If the person is at least 20 years old but less than 65, print a message that the person is an adult."
      ]
    },
    {
      "cell_type": "code",
      "execution_count": null,
      "metadata": {
        "id": "gGrbSmi4in1i",
        "outputId": "e22d95a3-7209-4ef4-c42e-2795dd3ac60d",
        "colab": {
          "base_uri": "https://localhost:8080/"
        }
      },
      "outputs": [
        {
          "output_type": "stream",
          "name": "stdout",
          "text": [
            "The person is an adult.\n"
          ]
        }
      ],
      "source": [
        "age = 25\n",
        "if age < 2:\n",
        "    print(\"The person is a baby.\")\n",
        "elif age < 4:\n",
        "    print(\"The person is a toddler.\")\n",
        "elif age < 13:\n",
        "    print(\"The person is a kid.\")\n",
        "elif age < 20:\n",
        "    print(\"The person is a teenager.\")\n",
        "elif age < 65:\n",
        "    print(\"The person is an adult.\")\n",
        "else:\n",
        "    print(\"The person is a senior.\")"
      ]
    },
    {
      "cell_type": "markdown",
      "metadata": {
        "id": "1Dxx9gTDin1i"
      },
      "source": [
        "## Question 5\n",
        "**Favorite Fruit:** Make a list of your favorite fruits, and then write a series of independent `if` statements that check for certain fruits in your list.\n",
        "\n",
        "* Make a list of your three favorite fruits and call it favorite_fruits.\n",
        "* Write five if statements. Each should check whether a certain kind of fruit is in your list. If the fruit is in your list, the if block should print a statement, such as You really like bananas!"
      ]
    },
    {
      "cell_type": "code",
      "execution_count": null,
      "metadata": {
        "id": "oslGi3yvin1k",
        "outputId": "5ce0c7dc-64c9-4475-d723-17187a1b5674",
        "colab": {
          "base_uri": "https://localhost:8080/"
        }
      },
      "outputs": [
        {
          "output_type": "stream",
          "name": "stdout",
          "text": [
            "You really like bananas!\n",
            "You really like apples!\n"
          ]
        }
      ],
      "source": [
        "favorite_fruits = [\"banana\", \"apple\"]\n",
        "if \"banana\" in favorite_fruits:\n",
        "    print(\"You really like bananas!\")\n",
        "\n",
        "if \"apple\" in favorite_fruits:\n",
        "    print(\"You really like apples!\")\n",
        "\n",
        "if \"strawberry\" in favorite_fruits:\n",
        "    print(\"You really like strawberries!\")\n",
        "\n",
        "if \"orange\" in favorite_fruits:\n",
        "    print(\"You really like oranges!\")\n",
        "\n",
        "if \"grape\" in favorite_fruits:\n",
        "    print(\"You really like grapes!\")"
      ]
    },
    {
      "cell_type": "markdown",
      "metadata": {
        "id": "cNAb5j8fin1l"
      },
      "source": [
        "## Question 6\n",
        "**Hello Admin:** Make a list of five or more usernames, including the name `admin`. Imagine you are writing code that will print a greeting to each user after they log in to a website. Loop through the list, and print a greeting to each user:\n",
        "\n",
        "* If the username is 'admin', print a special greeting, such as *Hello admin, would you like to see a status report?*\n",
        "* Otherwise, print a generic greeting, such as *Hello Jaden, thank you for logging in again*."
      ]
    },
    {
      "cell_type": "code",
      "execution_count": null,
      "metadata": {
        "id": "vKOurXOWin1l",
        "outputId": "0da0680f-9414-4000-fedf-c6866965c4e4",
        "colab": {
          "base_uri": "https://localhost:8080/"
        }
      },
      "outputs": [
        {
          "output_type": "stream",
          "name": "stdout",
          "text": [
            "Hello admin, would you like to see a status report?\n",
            "Hello Audrey, thank you for logging in again.\n",
            "Hello Michael, thank you for logging in again.\n",
            "Hello Maggie, thank you for logging in again.\n",
            "Hello Izzie, thank you for logging in again.\n"
          ]
        }
      ],
      "source": [
        "usernames = [\"admin\", \"audrey\", \"michael\", \"maggie\", \"izzie\"]\n",
        "for username in usernames:\n",
        "    if username == \"admin\":\n",
        "        print(\"Hello admin, would you like to see a status report?\")\n",
        "    else:\n",
        "        print(f\"Hello {username.capitalize()}, thank you for logging in again.\")"
      ]
    },
    {
      "cell_type": "markdown",
      "metadata": {
        "id": "kOnbpx1Uin1l"
      },
      "source": [
        "## Question 7\n",
        "**No Users:** Based on Question 6, add an `if` test to make sure the list of users is not empty.\n",
        "\n",
        "* If the list is empty, print the message *We need to find some users!*\n",
        "* Remove all of the usernames from your list, and make sure the correct message is printed."
      ]
    },
    {
      "cell_type": "code",
      "execution_count": null,
      "metadata": {
        "id": "Zz1SYzkbin1m",
        "outputId": "ce228ecd-8b27-4611-da99-1812798c6149",
        "colab": {
          "base_uri": "https://localhost:8080/"
        }
      },
      "outputs": [
        {
          "output_type": "stream",
          "name": "stdout",
          "text": [
            "We need to find some users!\n"
          ]
        }
      ],
      "source": [
        "usernames = []\n",
        "if usernames:\n",
        "    for username in usernames:\n",
        "        if username == \"admin\":\n",
        "            print(\"Hello admin, would you like to see a status report?\")\n",
        "        else:\n",
        "            print(f\"Hello {username.capitalize()}, thank you for logging in again.\")\n",
        "else:\n",
        "    print(\"We need to find some users!\")\n"
      ]
    },
    {
      "cell_type": "markdown",
      "metadata": {
        "id": "Mp23m92Min1m"
      },
      "source": [
        "## Question 8\n",
        "**Checking Usernames:** Do the following to create a program that simulates how websites ensure that everyone has a unique username.\n",
        "\n",
        "* Make a list of five or more usernames called `current_users`.\n",
        "*  Make another list of five usernames called `new_users`. Make sure one or two of the new usernames are also in the `current_users` list.\n",
        "* Loop through the `new_users` list to see if each new username has already been used. If it has, print a message that the person will need to enter a new username. If a username has not been used, print a message saying that the username is available.\n",
        "* Make sure your comparison is case insensitive. If 'John' has been used, 'JOHN' should not be accepted. (To do this, you’ll need to make a copy of `current_users` containing the lowercase versions of all existing users.)"
      ]
    },
    {
      "cell_type": "code",
      "execution_count": null,
      "metadata": {
        "id": "Wq641_3Jin1m",
        "outputId": "a3c87355-712a-4b7e-c828-f6310a1b06da",
        "colab": {
          "base_uri": "https://localhost:8080/"
        }
      },
      "outputs": [
        {
          "output_type": "stream",
          "name": "stdout",
          "text": [
            "The username 'jOHN' is not available. Please enter a new username.\n",
            "The username 'sara' is available.\n",
            "The username 'Megan' is available.\n",
            "The username 'Lucas' is not available. Please enter a new username.\n",
            "The username 'paul' is available.\n"
          ]
        }
      ],
      "source": [
        "current_users = [\"john\", \"suzie\", \"bob\", \"lucas\", \"emily\"]\n",
        "new_users = [\"jOHN\", \"sara\", \"Megan\", \"Lucas\", \"paul\"]\n",
        "current_users_lower = [user.lower() for user in current_users]\n",
        "for new_user in new_users:\n",
        "    if new_user.lower() in current_users_lower:\n",
        "        print(f\"The username '{new_user}' is not available. Please enter a new username.\")\n",
        "    else:\n",
        "        print(f\"The username '{new_user}' is available.\")"
      ]
    },
    {
      "cell_type": "markdown",
      "metadata": {
        "id": "Opy-b2aPin1m"
      },
      "source": [
        "## Question 9\n",
        "**Ordinal Numbers:** Ordinal numbers indicate their position in a list, such as *1st* or *2nd*. Most ordinal numbers end in *th*, except 1, 2, and 3.\n",
        "\n",
        "* Store the numbers 1 through 9 in a list.\n",
        "* Loop through the list.\n",
        "* Use an `if-elif-else` chain inside the loop to print the proper ordinal ending for each number. Your output should read \"1st 2nd 3rd 4th 5th 6th 7th 8th 9th\", and each result should be on a separate line."
      ]
    },
    {
      "cell_type": "code",
      "execution_count": null,
      "metadata": {
        "id": "QnEU-Gn3in1m",
        "outputId": "98bad42c-9db1-42c5-e520-daeb50fd2f3a",
        "colab": {
          "base_uri": "https://localhost:8080/"
        }
      },
      "outputs": [
        {
          "output_type": "stream",
          "name": "stdout",
          "text": [
            "1st\n",
            "2nd\n",
            "3rd\n",
            "4th\n",
            "5th\n",
            "6th\n",
            "7th\n",
            "8th\n",
            "9th\n"
          ]
        }
      ],
      "source": [
        "numbers = [1, 2, 3, 4, 5, 6, 7, 8, 9]\n",
        "\n",
        "for number in numbers:\n",
        "    if number == 1:\n",
        "        print(f\"{number}st\")\n",
        "    elif number == 2:\n",
        "        print(f\"{number}nd\")\n",
        "    elif number == 3:\n",
        "        print(f\"{number}rd\")\n",
        "    else:\n",
        "        print(f\"{number}th\")"
      ]
    }
  ],
  "metadata": {
    "kernelspec": {
      "display_name": "Python 3 (ipykernel)",
      "language": "python",
      "name": "python3"
    },
    "language_info": {
      "codemirror_mode": {
        "name": "ipython",
        "version": 3
      },
      "file_extension": ".py",
      "mimetype": "text/x-python",
      "name": "python",
      "nbconvert_exporter": "python",
      "pygments_lexer": "ipython3",
      "version": "3.8.10"
    },
    "colab": {
      "provenance": []
    }
  },
  "nbformat": 4,
  "nbformat_minor": 0
}