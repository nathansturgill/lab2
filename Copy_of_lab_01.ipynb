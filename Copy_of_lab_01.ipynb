{
  "cells": [
    {
      "cell_type": "markdown",
      "metadata": {
        "id": "tybGljeszvzJ"
      },
      "source": [
        "[![image](https://colab.research.google.com/assets/colab-badge.svg)](https://colab.research.google.com/github/giswqs/geog-312/blob/master/labs/lab_01.ipynb)\n",
        "[![image](https://binder.pangeo.io/badge_logo.svg)](https://gishub.org/geog312-pangeo)"
      ]
    },
    {
      "cell_type": "code",
      "execution_count": null,
      "metadata": {
        "id": "rzWKQYMmzvzO"
      },
      "outputs": [],
      "source": [
        "from datetime import datetime\n",
        "\n",
        "now = datetime.now()\n",
        "print(f\"Submitted time: {now}\")"
      ]
    },
    {
      "cell_type": "markdown",
      "metadata": {
        "id": "UgYhAZ7EzvzQ"
      },
      "source": [
        "## Question 1\n",
        "\n",
        "**Simple Message:** Assign a message to a variable, and then print that message."
      ]
    },
    {
      "cell_type": "code",
      "execution_count": null,
      "metadata": {
        "id": "I_sP2pn5zvzQ",
        "outputId": "3b15e25f-90fe-4b40-f1b3-bfe759c69eea",
        "colab": {
          "base_uri": "https://localhost:8080/"
        }
      },
      "outputs": [
        {
          "output_type": "stream",
          "name": "stdout",
          "text": [
            "fun\n"
          ]
        }
      ],
      "source": [
        "tennis=\"fun\"\n",
        "print(tennis)"
      ]
    },
    {
      "cell_type": "markdown",
      "metadata": {
        "id": "-KR-glfOzvzR"
      },
      "source": [
        "## Question 2\n",
        "**Simple Messages:** Assign a message to a variable, and print that message. Then change the value of the variable to a new message, and print the new message."
      ]
    },
    {
      "cell_type": "code",
      "execution_count": null,
      "metadata": {
        "id": "Vnuj5f5QzvzR",
        "outputId": "2327265b-18c5-450f-96fa-c53ddeb2c151",
        "colab": {
          "base_uri": "https://localhost:8080/"
        }
      },
      "outputs": [
        {
          "output_type": "stream",
          "name": "stdout",
          "text": [
            "Message 1: fun\n",
            "Message 2: golf\n"
          ]
        }
      ],
      "source": [
        "tennis=\"fun\"\n",
        "print(\"Message 1:\",tennis)\n",
        "fun='golf'\n",
        "print(\"Message 2:\",fun)"
      ]
    },
    {
      "cell_type": "markdown",
      "metadata": {
        "id": "K_sCO35FzvzR"
      },
      "source": [
        "## Question 3\n",
        "**Personal Message:** Use a variable to represent a person’s name, and print a message to that person. Your message should be simple, such as, “Hello Eric, would you like to learn some Python today?”"
      ]
    },
    {
      "cell_type": "code",
      "execution_count": null,
      "metadata": {
        "id": "CO3KA51_zvzS",
        "outputId": "29fa36c2-6429-4227-cc1a-05d35bbda87c",
        "colab": {
          "base_uri": "https://localhost:8080/"
        }
      },
      "outputs": [
        {
          "output_type": "stream",
          "name": "stdout",
          "text": [
            "Hello Eric would you like to learn some python today?\n"
          ]
        }
      ],
      "source": [
        "name=\"Eric\"\n",
        "print(\"Hello\", name, \"would you like to learn some python today?\")"
      ]
    },
    {
      "cell_type": "markdown",
      "metadata": {
        "id": "eTt6GnXmzvzS"
      },
      "source": [
        "## Question 4\n",
        "**Name Cases:** Use a variable to represent a person’s name, and then print that person’s name in lowercase, uppercase, and title case."
      ]
    },
    {
      "cell_type": "code",
      "execution_count": null,
      "metadata": {
        "id": "YPOx2SjyzvzT",
        "colab": {
          "base_uri": "https://localhost:8080/"
        },
        "outputId": "6fcf8088-3d0e-403d-a499-8ea794e475f8"
      },
      "outputs": [
        {
          "output_type": "stream",
          "name": "stdout",
          "text": [
            "Lowercase: eric\n",
            "Uppercase: ERIC\n",
            "Titlecase: Eric\n"
          ]
        }
      ],
      "source": [
        "person_name=\"Eric\"\n",
        "print('Lowercase:', person_name.lower())\n",
        "print('Uppercase:', person_name.upper())\n",
        "print('Titlecase:', person_name.title())"
      ]
    },
    {
      "cell_type": "markdown",
      "metadata": {
        "id": "e0Sw6xDlzvzU"
      },
      "source": [
        "## Question 5\n",
        "**Famous Quote:** Find a quote from a famous person you admire. Print the quote and the name of its author. Your output should look something like the following, including the quotation marks:\n",
        "```\n",
        "Albert Einstein once said, “A person who never made a mistake never tried anything new.”\n",
        "```"
      ]
    },
    {
      "cell_type": "code",
      "execution_count": null,
      "metadata": {
        "id": "meHudZIHzvzV",
        "colab": {
          "base_uri": "https://localhost:8080/"
        },
        "outputId": "d85acc86-8dd2-4ada-86cb-e3bd185c9e0e"
      },
      "outputs": [
        {
          "output_type": "stream",
          "name": "stdout",
          "text": [
            "Henry David Thoreau once said, 'if you have built castles in the air, your work need not be lost; that is where they should be. Now put foundations under them.'\n"
          ]
        }
      ],
      "source": [
        "person_name=\"Henry David Thoreau\"\n",
        "print(person_name,\"once said, 'if you have built castles in the air, your work need not be lost; that is where they should be. Now put foundations under them.'\")\n"
      ]
    },
    {
      "cell_type": "markdown",
      "metadata": {
        "id": "0UN8lQOOzvzV"
      },
      "source": [
        "## Question 6\n",
        "**Famous Quote 2:** Repeat Exercise 2-5, but this time, represent the famous person’s name using a variable called famous_person. Then compose your message and represent it with a new variable called message. Print your\n",
        "message."
      ]
    },
    {
      "cell_type": "code",
      "execution_count": null,
      "metadata": {
        "id": "WLVA4LSjzvzW",
        "colab": {
          "base_uri": "https://localhost:8080/"
        },
        "outputId": "bf74383c-e1f6-4810-ddcc-32a114f37da4"
      },
      "outputs": [
        {
          "output_type": "stream",
          "name": "stdout",
          "text": [
            "lowercase: tiger woods\n",
            "Uppercase: TIGER WOODS\n",
            "Titlecase: Tiger Woods\n",
            "Hello tiger woods would you like to learn some python today?\n",
            "('tiger woods', 'once said, winning takes care of everything.')\n"
          ]
        }
      ],
      "source": [
        "famous_person=\"tiger woods\"\n",
        "print(\"lowercase:\", famous_person.lower())\n",
        "print('Uppercase:', famous_person.upper())\n",
        "print('Titlecase:', famous_person.title())\n",
        "print(\"Hello\", famous_person, \"would you like to learn some python today?\")\n",
        "message=famous_person,\"once said, winning takes care of everything.\"\n",
        "print(message)\n"
      ]
    },
    {
      "cell_type": "markdown",
      "metadata": {
        "id": "K1NG1cLtzvzW"
      },
      "source": [
        "## Question 7\n",
        "**Stripping Names:** Use a variable to represent a person’s name, and include some whitespace characters at the beginning and end of the name. Make sure you use each character combination, \"\\t\" and \"\\n\", at least once.\n",
        "Print the name once, so the whitespace around the name is displayed. Then print the name using each of the three stripping functions, lstrip(), rstrip(), and strip()."
      ]
    },
    {
      "cell_type": "code",
      "execution_count": null,
      "metadata": {
        "id": "gW6xc-IpzvzX",
        "colab": {
          "base_uri": "https://localhost:8080/"
        },
        "outputId": "e435c541-a6e7-48e6-fefe-60842778c481"
      },
      "outputs": [
        {
          "output_type": "stream",
          "name": "stdout",
          "text": [
            "\t\n",
            "    Ralph     \n",
            "\t\n",
            "Ralph     \n",
            "\t\n",
            "\t\n",
            "    Ralph\n",
            "Ralph\n"
          ]
        }
      ],
      "source": [
        "person_name= \"\\t\\n    Ralph     \\n\\t\"\n",
        "print(person_name)\n",
        "print(person_name.lstrip())\n",
        "print(person_name.rstrip())\n",
        "print(person_name.strip())"
      ]
    },
    {
      "cell_type": "markdown",
      "metadata": {
        "id": "RuAgss1izvzX"
      },
      "source": [
        "## Question 8\n",
        "**Number Eight:** Write addition, subtraction, multiplication, and division operations that each result in the number 8. Be sure to enclose your operations in print() calls to see the results. You should create four lines that look like this:\n",
        "\n",
        "```\n",
        "print(5 + 3)\n",
        "```\n",
        "Your output should simply be four lines with the number 8 appearing once on each line."
      ]
    },
    {
      "cell_type": "code",
      "execution_count": null,
      "metadata": {
        "id": "E1DEjukGzvzX",
        "colab": {
          "base_uri": "https://localhost:8080/"
        },
        "outputId": "321225af-ca4d-43bc-bc24-74167552ae79"
      },
      "outputs": [
        {
          "output_type": "stream",
          "name": "stdout",
          "text": [
            "addition: 8\n",
            "subtraction: 8\n",
            "multiplication: 8\n",
            "division: 8.0\n"
          ]
        }
      ],
      "source": [
        "print('addition:', 4 + 4)\n",
        "print('subtraction:', 16 - 8)\n",
        "print('multiplication:', 2 * 4)\n",
        "print('division:', 32 / 4)\n"
      ]
    },
    {
      "cell_type": "markdown",
      "metadata": {
        "id": "AWQoa7EbzvzX"
      },
      "source": [
        "## Question 9\n",
        "**Favorite Number:**  Use a variable to represent your favorite number. Then, using that variable, create a message that reveals your favorite number. Print that message."
      ]
    },
    {
      "cell_type": "code",
      "execution_count": null,
      "metadata": {
        "id": "SLaUwkA3zvzX",
        "colab": {
          "base_uri": "https://localhost:8080/"
        },
        "outputId": "32208dfa-f069-44ee-89b6-5e56b134af77"
      },
      "outputs": [
        {
          "output_type": "stream",
          "name": "stdout",
          "text": [
            "my fav number is:4\n"
          ]
        }
      ],
      "source": [
        "favorite_number= 4\n",
        "message= \"my fav number is:\" + str(favorite_number)\n",
        "print(message)\n"
      ]
    },
    {
      "cell_type": "markdown",
      "metadata": {
        "id": "kJYcRhXgzvzX"
      },
      "source": [
        "## Question 10\n",
        "**Adding Comments:** Choose two of the programs you’ve written, and add at least one comment to each. If you don’t have anything specific to write because your programs are too simple at this point, just add your name and\n",
        "the current date at the top of each program file. Then write one sentence describing what the program does."
      ]
    },
    {
      "cell_type": "markdown",
      "source": [
        "This program was confusing for me because I had to look up what the str function did in python and how this program could only be written with the addition of str."
      ],
      "metadata": {
        "id": "JXIp-T4c4MEw"
      }
    },
    {
      "cell_type": "code",
      "execution_count": null,
      "metadata": {
        "id": "rv8MLcCdzvzY",
        "colab": {
          "base_uri": "https://localhost:8080/"
        },
        "outputId": "7ac64dad-9096-4210-ed4e-44a1d5e20472"
      },
      "outputs": [
        {
          "output_type": "stream",
          "name": "stdout",
          "text": [
            "my fav number is:4\n"
          ]
        }
      ],
      "source": [
        "favorite_number= 4\n",
        "message= \"my fav number is:\" + str(favorite_number)\n",
        "print(message)"
      ]
    },
    {
      "cell_type": "code",
      "source": [
        "print('addition:', 4 + 4)\n",
        "print('subtraction:', 16 - 8)\n",
        "print('multiplication:', 2 * 4)\n",
        "print('division:', 32 / 4)"
      ],
      "metadata": {
        "colab": {
          "base_uri": "https://localhost:8080/"
        },
        "id": "WcMCn2uJ4afd",
        "outputId": "464de18f-d4f0-415d-ca61-47c752a328f6"
      },
      "execution_count": null,
      "outputs": [
        {
          "output_type": "stream",
          "name": "stdout",
          "text": [
            "addition: 8\n",
            "subtraction: 8\n",
            "multiplication: 8\n",
            "division: 8.0\n"
          ]
        }
      ]
    },
    {
      "cell_type": "markdown",
      "source": [
        "This was interesting to see numbers treated differently than variables and what I mean is that you did not need quotations because these are not strings or character values."
      ],
      "metadata": {
        "id": "RLDXqIJ24g7t"
      }
    }
  ],
  "metadata": {
    "hide_input": false,
    "kernelspec": {
      "display_name": "Python 3 (ipykernel)",
      "language": "python",
      "name": "python3"
    },
    "language_info": {
      "codemirror_mode": {
        "name": "ipython",
        "version": 3
      },
      "file_extension": ".py",
      "mimetype": "text/x-python",
      "name": "python",
      "nbconvert_exporter": "python",
      "pygments_lexer": "ipython3",
      "version": "3.8.10"
    },
    "toc": {
      "base_numbering": 1,
      "nav_menu": {},
      "number_sections": true,
      "sideBar": true,
      "skip_h1_title": false,
      "title_cell": "Table of Contents",
      "title_sidebar": "Contents",
      "toc_cell": false,
      "toc_position": {},
      "toc_section_display": true,
      "toc_window_display": false
    },
    "varInspector": {
      "cols": {
        "lenName": 16,
        "lenType": 16,
        "lenVar": 40
      },
      "kernels_config": {
        "python": {
          "delete_cmd_postfix": "",
          "delete_cmd_prefix": "del ",
          "library": "var_list.py",
          "varRefreshCmd": "print(var_dic_list())"
        },
        "r": {
          "delete_cmd_postfix": ") ",
          "delete_cmd_prefix": "rm(",
          "library": "var_list.r",
          "varRefreshCmd": "cat(var_dic_list()) "
        }
      },
      "types_to_exclude": [
        "module",
        "function",
        "builtin_function_or_method",
        "instance",
        "_Feature"
      ],
      "window_display": false
    },
    "colab": {
      "provenance": []
    }
  },
  "nbformat": 4,
  "nbformat_minor": 0
}