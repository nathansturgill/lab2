{
  "cells": [
    {
      "cell_type": "markdown",
      "metadata": {
        "id": "a4kmOdiERoLr"
      },
      "source": [
        "[![image](https://colab.research.google.com/assets/colab-badge.svg)](https://colab.research.google.com/github/giswqs/geog-312/blob/master/labs/lab_03.ipynb)\n",
        "[![image](https://binder.pangeo.io/badge_logo.svg)](https://gishub.org/geog312-pangeo)"
      ]
    },
    {
      "cell_type": "markdown",
      "metadata": {
        "id": "JFaOb6cHRoLy"
      },
      "source": [
        "**Firstname Lastname**"
      ]
    },
    {
      "cell_type": "code",
      "execution_count": null,
      "metadata": {
        "id": "82hjzPUoRoLz"
      },
      "outputs": [],
      "source": [
        "from datetime import datetime\n",
        "\n",
        "now = datetime.now()\n",
        "print(f\"Submitted time: {now}\")"
      ]
    },
    {
      "cell_type": "markdown",
      "metadata": {
        "id": "jEmDKRXoRoL1"
      },
      "source": [
        "## Question 1\n",
        "**Pizzas:** Think of at least three kinds of your favorite pizza. Store these pizza names in a list, and then use a for loop to print the name of each pizza.\n",
        "\n",
        "Modify your for loop to print a sentence using the name of the pizza instead of printing just the name of the pizza. For each pizza you should have one line of output containing a simple statement like *I like pepperoni pizza.*"
      ]
    },
    {
      "cell_type": "code",
      "execution_count": null,
      "metadata": {
        "id": "qkO4L0goRoL1",
        "outputId": "dbecf3a9-24b6-4510-ee10-5cf187b1638e",
        "colab": {
          "base_uri": "https://localhost:8080/"
        }
      },
      "outputs": [
        {
          "output_type": "stream",
          "name": "stdout",
          "text": [
            "Favorite Pizzas:\n",
            "Pepperoni\n",
            "Margherita\n",
            "BBQ Chicken\n",
            "\n",
            "Sentence about Favorite Pizzas:\n",
            "I love Pepperoni pizza.\n",
            "I love Margherita pizza.\n",
            "I love BBQ Chicken pizza.\n"
          ]
        }
      ],
      "source": [
        "favorite_pizzas = [\"Pepperoni\", \"Margherita\", \"BBQ Chicken\"]\n",
        "\n",
        "print(\"Favorite Pizzas:\")\n",
        "for pizza in favorite_pizzas:\n",
        "    print(pizza)\n",
        "\n",
        "print(\"\\nSentence about Favorite Pizzas:\")\n",
        "for pizza in favorite_pizzas:\n",
        "    print(\"I love\", pizza, \"pizza.\")"
      ]
    },
    {
      "cell_type": "markdown",
      "metadata": {
        "id": "y9johyieRoL1"
      },
      "source": [
        "Add a line at the end of your program, outside the for loop, that states how much you like pizza. The output should consist of three or more lines about the kinds of pizza you like and then an additional sentence, such as *I really love pizza!*"
      ]
    },
    {
      "cell_type": "code",
      "execution_count": null,
      "metadata": {
        "id": "ZjL5-kGGRoL2",
        "outputId": "4a1ef099-5e70-4491-9ee3-4954f4f0ec5f",
        "colab": {
          "base_uri": "https://localhost:8080/"
        }
      },
      "outputs": [
        {
          "output_type": "stream",
          "name": "stdout",
          "text": [
            "Favorite Pizzas:\n",
            "Pepperoni\n",
            "Hawaiin\n",
            "BBQ Chicken\n",
            "\n",
            "Sentence about Favorite Pizzas:\n",
            "I love Pepperoni pizza.\n",
            "\n",
            "I really like pizza!\n",
            "I love Hawaiin pizza.\n",
            "\n",
            "I really like pizza!\n",
            "I love BBQ Chicken pizza.\n",
            "\n",
            "I really like pizza!\n"
          ]
        }
      ],
      "source": [
        "favorite_pizzas = [\"Pepperoni\", \"Hawaiin\", \"BBQ Chicken\"]\n",
        "\n",
        "print(\"Favorite Pizzas:\")\n",
        "for pizza in favorite_pizzas:\n",
        "    print(pizza)\n",
        "\n",
        "print(\"\\nSentence about Favorite Pizzas:\")\n",
        "for pizza in favorite_pizzas:\n",
        "    print(\"I love\", pizza, \"pizza.\")\n",
        "\n",
        "\n",
        "    print(\"\\nI really like pizza!\")"
      ]
    },
    {
      "cell_type": "markdown",
      "metadata": {
        "id": "iLhgGeb9RoL2"
      },
      "source": [
        "## Question 2\n",
        "**Animals:** Think of at least three different animals that have a common characteristic. Store the names of these animals in a list, and then use a for loop to print out the name of each animal.\n",
        "\n",
        "Modify your program to print a statement about each animal, such as *A dog would make a great pet.*"
      ]
    },
    {
      "cell_type": "code",
      "execution_count": null,
      "metadata": {
        "id": "zvjMfN0tRoL3",
        "outputId": "fcba2db1-5324-4dd7-b4a7-51691aafe6fb",
        "colab": {
          "base_uri": "https://localhost:8080/"
        }
      },
      "outputs": [
        {
          "output_type": "stream",
          "name": "stdout",
          "text": [
            "Animals:\n",
            "dog\n",
            "goldfish\n",
            "goat\n",
            "\n",
            "Comments about Animals:\n",
            "A dog would make a great pet.\n",
            "A goldfish would make a great pet.\n",
            "A goat would make a great pet.\n"
          ]
        }
      ],
      "source": [
        "animals = [\"dog\", \"goldfish\", \"goat\"]\n",
        "\n",
        "print(\"Animals:\")\n",
        "for animal in animals:\n",
        "    print(animal)\n",
        "\n",
        "print(\"\\nComments about Animals:\")\n",
        "for animal in animals:\n",
        "    print(\"A\", animal, \"would make a great pet.\")\n"
      ]
    },
    {
      "cell_type": "markdown",
      "metadata": {
        "id": "eb92ZawVRoL3"
      },
      "source": [
        "Add a line at the end of your program stating what these animals have in common. You could print a sentence such as *Any of these animals would make a great pet!*"
      ]
    },
    {
      "cell_type": "code",
      "execution_count": null,
      "metadata": {
        "id": "eaYJI3KMRoL4",
        "outputId": "4ddcbb92-c669-4419-e50b-c709570dab1d",
        "colab": {
          "base_uri": "https://localhost:8080/"
        }
      },
      "outputs": [
        {
          "output_type": "stream",
          "name": "stdout",
          "text": [
            "Animals:\n",
            "dog\n",
            "goldfish\n",
            "goat\n",
            "\n",
            "Comments about Animals:\n",
            "A dog would make a great pet.\n",
            "A goldfish would make a great pet.\n",
            "A goat would make a great pet.\n",
            "\n",
            "Any of these animals would make a great pet!\n"
          ]
        }
      ],
      "source": [
        "animals = [\"dog\", \"goldfish\", \"goat\"]\n",
        "\n",
        "print(\"Animals:\")\n",
        "for animal in animals:\n",
        "    print(animal)\n",
        "\n",
        "print(\"\\nComments about Animals:\")\n",
        "for animal in animals:\n",
        "    print(\"A\", animal, \"would make a great pet.\")\n",
        "print(\"\\nAny of these animals would make a great pet!\")"
      ]
    },
    {
      "cell_type": "markdown",
      "metadata": {
        "id": "nItzQ_G6RoL4"
      },
      "source": [
        "## Question 3\n",
        "**Counting to Twenty:** Use a for loop to print the numbers from 1 to 20, inclusive."
      ]
    },
    {
      "cell_type": "code",
      "execution_count": null,
      "metadata": {
        "id": "OOaSvTOBRoL4",
        "outputId": "cc11c600-eee0-45c8-e860-e4c1785e95de",
        "colab": {
          "base_uri": "https://localhost:8080/"
        }
      },
      "outputs": [
        {
          "output_type": "stream",
          "name": "stdout",
          "text": [
            "Numbers from 1 to 20:\n",
            "1\n",
            "2\n",
            "3\n",
            "4\n",
            "5\n",
            "6\n",
            "7\n",
            "8\n",
            "9\n",
            "10\n",
            "11\n",
            "12\n",
            "13\n",
            "14\n",
            "15\n",
            "16\n",
            "17\n",
            "18\n",
            "19\n",
            "20\n"
          ]
        }
      ],
      "source": [
        "print(\"Numbers from 1 to 20:\")\n",
        "for number in range(1, 21):\n",
        "    print(number)"
      ]
    },
    {
      "cell_type": "markdown",
      "metadata": {
        "id": "CcXWxqpnRoL4"
      },
      "source": [
        "## Question 4\n",
        "**One Hundred:** Make a list of the numbers from one to one hundred, and then use a for loop to print the numbers."
      ]
    },
    {
      "cell_type": "code",
      "execution_count": null,
      "metadata": {
        "id": "IVp8Z3MZRoL5",
        "outputId": "fbf87cfc-fd49-455c-aecc-d7a604e7cdce",
        "colab": {
          "base_uri": "https://localhost:8080/"
        }
      },
      "outputs": [
        {
          "output_type": "stream",
          "name": "stdout",
          "text": [
            "Numbers from 1 to 100:\n",
            "1\n",
            "2\n",
            "3\n",
            "4\n",
            "5\n",
            "6\n",
            "7\n",
            "8\n",
            "9\n",
            "10\n",
            "11\n",
            "12\n",
            "13\n",
            "14\n",
            "15\n",
            "16\n",
            "17\n",
            "18\n",
            "19\n",
            "20\n",
            "21\n",
            "22\n",
            "23\n",
            "24\n",
            "25\n",
            "26\n",
            "27\n",
            "28\n",
            "29\n",
            "30\n",
            "31\n",
            "32\n",
            "33\n",
            "34\n",
            "35\n",
            "36\n",
            "37\n",
            "38\n",
            "39\n",
            "40\n",
            "41\n",
            "42\n",
            "43\n",
            "44\n",
            "45\n",
            "46\n",
            "47\n",
            "48\n",
            "49\n",
            "50\n",
            "51\n",
            "52\n",
            "53\n",
            "54\n",
            "55\n",
            "56\n",
            "57\n",
            "58\n",
            "59\n",
            "60\n",
            "61\n",
            "62\n",
            "63\n",
            "64\n",
            "65\n",
            "66\n",
            "67\n",
            "68\n",
            "69\n",
            "70\n",
            "71\n",
            "72\n",
            "73\n",
            "74\n",
            "75\n",
            "76\n",
            "77\n",
            "78\n",
            "79\n",
            "80\n",
            "81\n",
            "82\n",
            "83\n",
            "84\n",
            "85\n",
            "86\n",
            "87\n",
            "88\n",
            "89\n",
            "90\n",
            "91\n",
            "92\n",
            "93\n",
            "94\n",
            "95\n",
            "96\n",
            "97\n",
            "98\n",
            "99\n",
            "100\n"
          ]
        }
      ],
      "source": [
        "print(\"Numbers from 1 to 100:\")\n",
        "for number in range(1, 101):\n",
        "    print(number)"
      ]
    },
    {
      "cell_type": "markdown",
      "metadata": {
        "id": "OHX4szYkRoL5"
      },
      "source": [
        "## Question 5\n",
        "**Summing a Hundred:** Make a list of the numbers from one to one million, and then use `min()` and `max()` to make sure your list actually starts at one and ends at one hundred. Also, use the sum() function to see how quickly Python can add a hundred numbers."
      ]
    },
    {
      "cell_type": "code",
      "execution_count": null,
      "metadata": {
        "id": "Tm9AkV0URoL5",
        "outputId": "8591f9f9-7110-4487-cbf1-5e60cb642f91",
        "colab": {
          "base_uri": "https://localhost:8080/"
        }
      },
      "outputs": [
        {
          "output_type": "stream",
          "name": "stdout",
          "text": [
            "Minimum number in the list: 1\n",
            "Maximum number in the list: 100000000\n",
            "Sum of the numbers in the list: 5000000050000000\n"
          ]
        }
      ],
      "source": [
        "numbers = list(range(1, 100000001))\n",
        "\n",
        "min_number = min(numbers)\n",
        "max_number = max(numbers)\n",
        "\n",
        "sum_of_numbers = sum(numbers)\n",
        "\n",
        "print(\"Minimum number in the list:\", min_number)\n",
        "print(\"Maximum number in the list:\", max_number)\n",
        "print(\"Sum of the numbers in the list:\", sum_of_numbers)"
      ]
    },
    {
      "cell_type": "markdown",
      "metadata": {
        "id": "9owlio29RoL5"
      },
      "source": [
        "## Question 6\n",
        "**Odd Numbers:** Use the third argument of the `range()` function to make a list of the odd numbers from 1 to 20. Use a `for` loop to print each number."
      ]
    },
    {
      "cell_type": "code",
      "execution_count": null,
      "metadata": {
        "id": "Az7FKfEORoL6",
        "outputId": "a4c90f4b-9ba4-446e-d113-46d16427fa8c",
        "colab": {
          "base_uri": "https://localhost:8080/"
        }
      },
      "outputs": [
        {
          "output_type": "stream",
          "name": "stdout",
          "text": [
            "Odd numbers from 1 to 20:\n",
            "1\n",
            "3\n",
            "5\n",
            "7\n",
            "9\n",
            "11\n",
            "13\n",
            "15\n",
            "17\n",
            "19\n"
          ]
        }
      ],
      "source": [
        "odd_numbers = list(range(1, 21, 2))\n",
        "\n",
        "print(\"Odd numbers from 1 to 20:\")\n",
        "for number in odd_numbers:\n",
        "    print(number)"
      ]
    },
    {
      "cell_type": "markdown",
      "metadata": {
        "id": "fafEhqo7RoL6"
      },
      "source": [
        "## Question 7\n",
        "**Threes:** Make a list of the multiples of 3 from 3 to 30. Use a `for` loop to print the numbers in your list."
      ]
    },
    {
      "cell_type": "code",
      "execution_count": null,
      "metadata": {
        "id": "RzsHYkHbRoL6",
        "outputId": "b5a6e819-86be-4bfb-a7b8-97e002d87e8c",
        "colab": {
          "base_uri": "https://localhost:8080/"
        }
      },
      "outputs": [
        {
          "output_type": "stream",
          "name": "stdout",
          "text": [
            "Multiples of 3 from 3 to 30:\n",
            "3\n",
            "6\n",
            "9\n",
            "12\n",
            "15\n",
            "18\n",
            "21\n",
            "24\n",
            "27\n",
            "30\n"
          ]
        }
      ],
      "source": [
        "multiples_of_3 = list(range(3, 31, 3))\n",
        "\n",
        "print(\"Multiples of 3 from 3 to 30:\")\n",
        "for number in multiples_of_3:\n",
        "    print(number)"
      ]
    },
    {
      "cell_type": "markdown",
      "metadata": {
        "id": "2ygOZRdTRoL7"
      },
      "source": [
        "## Question 8\n",
        "**Cubes:** A number raised to the third power is called a cube. For example, the cube of 2 is written as 2 ** 3 in Python. Make a list of the first 10 cubes (that is, the cube of each integer from 1 through 10), and use a for loop to print out the value of each cube."
      ]
    },
    {
      "cell_type": "code",
      "execution_count": null,
      "metadata": {
        "id": "IN5vb-3bRoL7",
        "outputId": "835103fc-2699-4d54-8038-4dad015a825a",
        "colab": {
          "base_uri": "https://localhost:8080/"
        }
      },
      "outputs": [
        {
          "output_type": "stream",
          "name": "stdout",
          "text": [
            "cubes of the first ten integers:\n",
            "The cube of 1 is 1\n",
            "The cube of 2 is 8\n",
            "The cube of 3 is 27\n",
            "The cube of 4 is 64\n",
            "The cube of 5 is 125\n",
            "The cube of 6 is 216\n",
            "The cube of 7 is 343\n",
            "The cube of 8 is 512\n",
            "The cube of 9 is 729\n",
            "The cube of 10 is 1000\n"
          ]
        }
      ],
      "source": [
        "cubes = []\n",
        "\n",
        "for number in range(1, 11):\n",
        "    cube = number ** 3\n",
        "    cubes.append(cube)\n",
        "\n",
        "print(\"cubes of the first ten integers:\")\n",
        "for idx, cube in enumerate(cubes, start=1):\n",
        "    print(f\"The cube of {idx} is {cube}\")"
      ]
    },
    {
      "cell_type": "markdown",
      "metadata": {
        "id": "7sAIrqbDRoL7"
      },
      "source": [
        "## Question 9\n",
        "**Cube Comprehension:** Use a list comprehension to generate a list of the first 10 cubes."
      ]
    },
    {
      "cell_type": "code",
      "execution_count": null,
      "metadata": {
        "id": "IqusV-NlRoL7",
        "outputId": "69fd2b6f-f498-4323-e37c-1c49776d32da",
        "colab": {
          "base_uri": "https://localhost:8080/"
        }
      },
      "outputs": [
        {
          "output_type": "stream",
          "name": "stdout",
          "text": [
            "cubes of the first ten integers:\n",
            "The cube of 1 is 1\n",
            "The cube of 2 is 8\n",
            "The cube of 3 is 27\n",
            "The cube of 4 is 64\n",
            "The cube of 5 is 125\n",
            "The cube of 6 is 216\n",
            "The cube of 7 is 343\n",
            "The cube of 8 is 512\n",
            "The cube of 9 is 729\n",
            "The cube of 10 is 1000\n"
          ]
        }
      ],
      "source": [
        "cubes = [number ** 3 for number in range(1, 11)]\n",
        "\n",
        "print(\"cubes of the first ten integers:\")\n",
        "for idx, cube in enumerate(cubes, start=1):\n",
        "    print(f\"The cube of {idx} is {cube}\")"
      ]
    },
    {
      "cell_type": "markdown",
      "metadata": {
        "id": "R445xl-lRoL7"
      },
      "source": [
        "## Question 10\n",
        "**Slices:** Using one of the programs you wrote in this lab, add several lines to the end of the program that do the following:\n",
        "\n",
        "Print the message *The first three items in the list are:*. Then use a slice to print the first three items from that program’s list."
      ]
    },
    {
      "cell_type": "code",
      "execution_count": null,
      "metadata": {
        "id": "f7fomUI5RoL8",
        "outputId": "d0a83293-debc-4b74-fb14-393f8f381772",
        "colab": {
          "base_uri": "https://localhost:8080/"
        }
      },
      "outputs": [
        {
          "output_type": "stream",
          "name": "stdout",
          "text": [
            "cubes of the first ten integers:\n",
            "The cube of 1 is 1\n",
            "The cube of 2 is 8\n",
            "The cube of 3 is 27\n",
            "The cube of 4 is 64\n",
            "The cube of 5 is 125\n",
            "The cube of 6 is 216\n",
            "The cube of 7 is 343\n",
            "The cube of 8 is 512\n",
            "The cube of 9 is 729\n",
            "The cube of 10 is 1000\n",
            "\n",
            "The first three items in the list are:\n",
            "[1, 8, 27]\n"
          ]
        }
      ],
      "source": [
        "cubes = [number ** 3 for number in range(1, 11)]\n",
        "\n",
        "print(\"cubes of the first ten integers:\")\n",
        "for idx, cube in enumerate(cubes, start=1):\n",
        "    print(f\"The cube of {idx} is {cube}\")\n",
        "\n",
        "print(\"\\nThe first three items in the list are:\")\n",
        "print(cubes[:3])"
      ]
    },
    {
      "cell_type": "markdown",
      "metadata": {
        "id": "FmrEk2inRoL8"
      },
      "source": [
        "Print the message *Three items from the middle of the list are:*. Use a slice to print three items from the middle of the list."
      ]
    },
    {
      "cell_type": "code",
      "execution_count": null,
      "metadata": {
        "id": "GK1XnzcWRoL8",
        "outputId": "c2f62ece-2c4e-4e58-8d0d-15be98386cd8",
        "colab": {
          "base_uri": "https://localhost:8080/"
        }
      },
      "outputs": [
        {
          "output_type": "stream",
          "name": "stdout",
          "text": [
            "cubes of the first ten integers:\n",
            "The cube of 1 is 1\n",
            "The cube of 2 is 8\n",
            "The cube of 3 is 27\n",
            "The cube of 4 is 64\n",
            "The cube of 5 is 125\n",
            "The cube of 6 is 216\n",
            "The cube of 7 is 343\n",
            "The cube of 8 is 512\n",
            "The cube of 9 is 729\n",
            "The cube of 10 is 1000\n",
            "\n",
            "Three items from the middle of the list are:\n",
            "[125, 216, 343]\n"
          ]
        }
      ],
      "source": [
        "cubes = [number ** 3 for number in range(1, 11)]\n",
        "\n",
        "print(\"cubes of the first ten integers:\")\n",
        "for idx, cube in enumerate(cubes, start=1):\n",
        "    print(f\"The cube of {idx} is {cube}\")\n",
        "\n",
        "middle_start = len(cubes) // 2 - 1\n",
        "middle_end = middle_start + 3\n",
        "print(\"\\nThree items from the middle of the list are:\")\n",
        "print(cubes[middle_start:middle_end])"
      ]
    },
    {
      "cell_type": "markdown",
      "metadata": {
        "id": "qDObr90uRoL8"
      },
      "source": [
        "Print the message *The last three items in the list are:*. Use a slice to print the last three items in the list."
      ]
    },
    {
      "cell_type": "code",
      "execution_count": null,
      "metadata": {
        "id": "byWWqNCoRoL8",
        "outputId": "010fbfd2-9b19-4868-b9ac-7679d2a2b411",
        "colab": {
          "base_uri": "https://localhost:8080/"
        }
      },
      "outputs": [
        {
          "output_type": "stream",
          "name": "stdout",
          "text": [
            "cubes of the first ten integers:\n",
            "The cube of 1 is 1\n",
            "The cube of 2 is 8\n",
            "The cube of 3 is 27\n",
            "The cube of 4 is 64\n",
            "The cube of 5 is 125\n",
            "The cube of 6 is 216\n",
            "The cube of 7 is 343\n",
            "The cube of 8 is 512\n",
            "The cube of 9 is 729\n",
            "The cube of 10 is 1000\n",
            "\n",
            "Three items from the end of the list are:\n",
            "[343, 512, 729, 1000]\n"
          ]
        }
      ],
      "source": [
        "cubes = [number ** 3 for number in range(1, 11)]\n",
        "\n",
        "print(\"cubes of the first ten integers:\")\n",
        "for idx, cube in enumerate(cubes, start=1):\n",
        "    print(f\"The cube of {idx} is {cube}\")\n",
        "\n",
        "end_start = len(cubes) // 6 - 5\n",
        "end_end = middle_start + 6\n",
        "print(\"\\nThree items from the end of the list are:\")\n",
        "print(cubes[end_start:end_end])"
      ]
    },
    {
      "cell_type": "markdown",
      "metadata": {
        "id": "iNximD3HRoL8"
      },
      "source": [
        "## Question 11\n",
        "**My Pizzas, Your Pizzas:** Start with your program from Question 1. Make a copy of the list of pizzas, and call it friend_pizzas. Then, do the following:\n",
        "\n",
        "Add a new pizza to the original list."
      ]
    },
    {
      "cell_type": "code",
      "execution_count": null,
      "metadata": {
        "id": "1fpWghArRoL9",
        "outputId": "25d59701-c833-4070-a28f-e5c48d0ea050",
        "colab": {
          "base_uri": "https://localhost:8080/"
        }
      },
      "outputs": [
        {
          "output_type": "stream",
          "name": "stdout",
          "text": [
            "My favorite pizzas:\n",
            "pepperoni\n",
            "margherita\n",
            "hawaiian\n",
            "vegetarian\n",
            "\n",
            "My friend's favorite pizzas:\n",
            "pepperoni\n",
            "margherita\n",
            "hawaiian\n"
          ]
        }
      ],
      "source": [
        "pizzas = [\"pepperoni\", \"margherita\", \"hawaiian\"]\n",
        "\n",
        "\n",
        "friend_pizzas = pizzas[:]\n",
        "\n",
        "\n",
        "pizzas.append(\"vegetarian\")\n",
        "\n",
        "\n",
        "print(\"My favorite pizzas:\")\n",
        "for pizza in pizzas:\n",
        "    print(pizza)\n",
        "\n",
        "print(\"\\nMy friend's favorite pizzas:\")\n",
        "for pizza in friend_pizzas:\n",
        "    print(pizza)"
      ]
    },
    {
      "cell_type": "markdown",
      "metadata": {
        "id": "p24YaVIVRoL9"
      },
      "source": [
        "Add a different pizza to the list `friend_pizzas`."
      ]
    },
    {
      "cell_type": "code",
      "execution_count": null,
      "metadata": {
        "id": "mjTU13rIRoL9",
        "outputId": "c347a64c-f56a-42d1-a295-8e5a61186007",
        "colab": {
          "base_uri": "https://localhost:8080/"
        }
      },
      "outputs": [
        {
          "output_type": "stream",
          "name": "stdout",
          "text": [
            "My favorite pizzas:\n",
            "pepperoni\n",
            "margherita\n",
            "hawaiian\n",
            "vegetarian\n",
            "\n",
            "My friend's favorite pizzas:\n",
            "pepperoni\n",
            "margherita\n",
            "hawaiian\n",
            "BBQ chicken\n"
          ]
        }
      ],
      "source": [
        "pizzas = [\"pepperoni\", \"margherita\", \"hawaiian\"]\n",
        "friend_pizzas = pizzas[:]\n",
        "pizzas.append(\"vegetarian\")\n",
        "friend_pizzas.append(\"BBQ chicken\")\n",
        "print(\"My favorite pizzas:\")\n",
        "for pizza in pizzas:\n",
        "    print(pizza)\n",
        "print(\"\\nMy friend's favorite pizzas:\")\n",
        "for pizza in friend_pizzas:\n",
        "    print(pizza)"
      ]
    },
    {
      "cell_type": "markdown",
      "metadata": {
        "id": "tiEL87XARoL9"
      },
      "source": [
        "Prove that you have two separate lists. Print the message *My favorite pizzas are:*, and then use a for loop to print the first list. Print the message *My friend’s favorite pizzas are:*, and then use a for loop to print the second list. Make sure each new pizza is stored in the appropriate list."
      ]
    },
    {
      "cell_type": "code",
      "execution_count": null,
      "metadata": {
        "id": "a6N3L1IQRoL-",
        "outputId": "496661cd-c3b4-42c9-9a80-ca84580d7830",
        "colab": {
          "base_uri": "https://localhost:8080/"
        }
      },
      "outputs": [
        {
          "output_type": "stream",
          "name": "stdout",
          "text": [
            "My favorite pizzas are:\n",
            "pepperoni\n",
            "margherita\n",
            "hawaiian\n",
            "vegetarian\n",
            "\n",
            "My friend’s favorite pizzas are:\n",
            "pepperoni\n",
            "margherita\n",
            "hawaiian\n",
            "BBQ chicken\n"
          ]
        }
      ],
      "source": [
        "print(\"My favorite pizzas are:\")\n",
        "for pizza in pizzas:\n",
        "    print(pizza)\n",
        "\n",
        "print(\"\\nMy friend’s favorite pizzas are:\")\n",
        "for pizza in friend_pizzas:\n",
        "    print(pizza)"
      ]
    },
    {
      "cell_type": "markdown",
      "metadata": {
        "id": "CAnsxoL6RoL-"
      },
      "source": [
        "## Question 12\n",
        "**Buffet:** A buffet-style restaurant offers only five basic foods. Think of five simple foods, and store them in a tuple.\n",
        "\n",
        "Use a for loop to print each food the restaurant offers."
      ]
    },
    {
      "cell_type": "code",
      "execution_count": null,
      "metadata": {
        "id": "6Gg_6GFRRoL-",
        "outputId": "bf45cd1a-6adb-43c5-9399-9074ea31037e",
        "colab": {
          "base_uri": "https://localhost:8080/"
        }
      },
      "outputs": [
        {
          "output_type": "stream",
          "name": "stdout",
          "text": [
            "Food offered at the restaurant:\n",
            "steak\n",
            "burger\n",
            "soup\n",
            "spaghetti\n",
            "salad\n"
          ]
        }
      ],
      "source": [
        "menu = (\"steak\", \"burger\", \"soup\", \"spaghetti\", \"salad\")\n",
        "\n",
        "print(\"Food offered at the restaurant:\")\n",
        "for food in menu:\n",
        "    print(food)"
      ]
    },
    {
      "cell_type": "markdown",
      "metadata": {
        "id": "X21-I--KRoMK"
      },
      "source": [
        "Try to modify one of the items, and make sure that Python rejects the change."
      ]
    },
    {
      "cell_type": "code",
      "execution_count": null,
      "metadata": {
        "id": "9Y0NGsLcRoML",
        "outputId": "6166ed4e-fa27-4078-d8f4-96da0b9c7546",
        "colab": {
          "base_uri": "https://localhost:8080/",
          "height": 194
        }
      },
      "outputs": [
        {
          "output_type": "error",
          "ename": "TypeError",
          "evalue": "ignored",
          "traceback": [
            "\u001b[0;31m---------------------------------------------------------------------------\u001b[0m",
            "\u001b[0;31mTypeError\u001b[0m                                 Traceback (most recent call last)",
            "\u001b[0;32m<ipython-input-57-e42b831038bd>\u001b[0m in \u001b[0;36m<cell line: 2>\u001b[0;34m()\u001b[0m\n\u001b[1;32m      1\u001b[0m \u001b[0mmenu\u001b[0m \u001b[0;34m=\u001b[0m \u001b[0;34m(\u001b[0m\u001b[0;34m\"steak\"\u001b[0m\u001b[0;34m,\u001b[0m \u001b[0;34m\"burger\"\u001b[0m\u001b[0;34m,\u001b[0m \u001b[0;34m\"soup\"\u001b[0m\u001b[0;34m,\u001b[0m \u001b[0;34m\"spaghetti\"\u001b[0m\u001b[0;34m,\u001b[0m \u001b[0;34m\"salad\"\u001b[0m\u001b[0;34m)\u001b[0m\u001b[0;34m\u001b[0m\u001b[0;34m\u001b[0m\u001b[0m\n\u001b[0;32m----> 2\u001b[0;31m \u001b[0mmenu\u001b[0m\u001b[0;34m[\u001b[0m\u001b[0;36m1\u001b[0m\u001b[0;34m]\u001b[0m \u001b[0;34m=\u001b[0m \u001b[0;34m\"cheesesteak\"\u001b[0m\u001b[0;34m\u001b[0m\u001b[0;34m\u001b[0m\u001b[0m\n\u001b[0m",
            "\u001b[0;31mTypeError\u001b[0m: 'tuple' object does not support item assignment"
          ]
        }
      ],
      "source": [
        "menu = (\"steak\", \"burger\", \"soup\", \"spaghetti\", \"salad\")\n",
        "menu[1] = \"cheesesteak\""
      ]
    },
    {
      "cell_type": "markdown",
      "metadata": {
        "id": "J0on1w1ARoML"
      },
      "source": [
        "The restaurant changes its menu, replacing two of the items with different foods. Add a line that rewrites the tuple, and then use a for loop to print each of the items on the revised menu."
      ]
    },
    {
      "cell_type": "code",
      "execution_count": null,
      "metadata": {
        "id": "76EeV5SoRoMN",
        "outputId": "4f6d29b0-9295-4e32-d862-d1895144249f",
        "colab": {
          "base_uri": "https://localhost:8080/"
        }
      },
      "outputs": [
        {
          "output_type": "stream",
          "name": "stdout",
          "text": [
            "revised menu:\n",
            "fried chicken\n",
            "burger\n",
            "soup\n",
            "pasta\n",
            "salad\n"
          ]
        }
      ],
      "source": [
        "menu = (\"steak\", \"burger\", \"soup\", \"spaghetti\", \"salad\")\n",
        "updated_menu = (\"fried chicken\", \"burger\", \"soup\", \"pasta\", \"salad\")\n",
        "print(\"revised menu:\")\n",
        "for food in updated_menu:\n",
        "    print(food)"
      ]
    }
  ],
  "metadata": {
    "kernelspec": {
      "display_name": "Python 3 (ipykernel)",
      "language": "python",
      "name": "python3"
    },
    "language_info": {
      "codemirror_mode": {
        "name": "ipython",
        "version": 3
      },
      "file_extension": ".py",
      "mimetype": "text/x-python",
      "name": "python",
      "nbconvert_exporter": "python",
      "pygments_lexer": "ipython3",
      "version": "3.8.10"
    },
    "colab": {
      "provenance": []
    }
  },
  "nbformat": 4,
  "nbformat_minor": 0
}