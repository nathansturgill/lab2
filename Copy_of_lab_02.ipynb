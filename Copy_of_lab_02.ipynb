{
  "cells": [
    {
      "cell_type": "markdown",
      "metadata": {
        "id": "-yLySTBz5RS1"
      },
      "source": [
        "[![image](https://colab.research.google.com/assets/colab-badge.svg)](https://colab.research.google.com/github/giswqs/geog-312/blob/master/labs/lab_02.ipynb)\n",
        "[![image](https://binder.pangeo.io/badge_logo.svg)](https://gishub.org/geog312-pangeo)"
      ]
    },
    {
      "cell_type": "markdown",
      "metadata": {
        "id": "TC6CV3HU5RS7"
      },
      "source": [
        "**Firstname Lastname**"
      ]
    },
    {
      "cell_type": "code",
      "execution_count": null,
      "metadata": {
        "id": "XjNYH70C5RS8"
      },
      "outputs": [],
      "source": [
        "from datetime import datetime\n",
        "\n",
        "now = datetime.now()\n",
        "print(f\"Submitted time: {now}\")"
      ]
    },
    {
      "cell_type": "markdown",
      "metadata": {
        "id": "KnpES_4l5RS-"
      },
      "source": [
        "## Question 1\n",
        "**Names:** Store the names of a few of your friends in a list called names. Print\n",
        "each person’s name by accessing each element in the list, one at a time."
      ]
    },
    {
      "cell_type": "code",
      "execution_count": null,
      "metadata": {
        "id": "Cv-30KB35RS_",
        "outputId": "e6a61ac5-fd0f-4787-f3d3-08e8442a6f54",
        "colab": {
          "base_uri": "https://localhost:8080/"
        }
      },
      "outputs": [
        {
          "output_type": "stream",
          "name": "stdout",
          "text": [
            "bob\n",
            "cindy\n",
            "suzie\n",
            "joe\n"
          ]
        }
      ],
      "source": [
        "\n",
        "names = [\"bob\", \"cindy\", \"suzie\", \"joe\"]\n",
        "for name in names:\n",
        " print(name)\n",
        "\n"
      ]
    },
    {
      "cell_type": "markdown",
      "metadata": {
        "id": "wkVxIxrj5RTA"
      },
      "source": [
        "## Question 2\n",
        "**Greetings:** Start with the list you used in Question 1, but instead of just printing each person’s name, print a message to them. The text of each message should be the same, but each message should be personalized with the person’s name."
      ]
    },
    {
      "cell_type": "code",
      "execution_count": null,
      "metadata": {
        "id": "dA0KEUGf5RTA",
        "outputId": "b37ecff6-3427-4ce1-a199-1d3143a2ac9f",
        "colab": {
          "base_uri": "https://localhost:8080/"
        }
      },
      "outputs": [
        {
          "output_type": "stream",
          "name": "stdout",
          "text": [
            "Hello bob have a nice day.\n",
            "Hello cindy have a nice day.\n",
            "Hello suzie have a nice day.\n",
            "Hello joe have a nice day.\n"
          ]
        }
      ],
      "source": [
        "names = [\"bob\", \"cindy\", \"suzie\", \"joe\"]\n",
        "for name in names:\n",
        "    print(\"Hello\", name, \"have a nice day.\")\n"
      ]
    },
    {
      "cell_type": "markdown",
      "metadata": {
        "id": "ejg0pIld5RTB"
      },
      "source": [
        "## Question 3\n",
        "**Your Own List:** Think of your favorite mode of transportation, such as a motorcycle or a car, and make a list that stores several examples. Use your list to print a series of statements about these items, such as “I would like to own a Honda motorcycle.”"
      ]
    },
    {
      "cell_type": "code",
      "execution_count": null,
      "metadata": {
        "id": "ChghtP1d5RTB",
        "outputId": "76d7ef7f-156e-4575-fa36-d43c4aff281d",
        "colab": {
          "base_uri": "https://localhost:8080/"
        }
      },
      "outputs": [
        {
          "output_type": "stream",
          "name": "stdout",
          "text": [
            "i would like to own a Honda\n",
            "i would like to own a Toyota\n",
            "i would like to own a Chevy\n",
            "i would like to own a Ford\n"
          ]
        }
      ],
      "source": [
        "types_of_cars= [\"honda\", \"toyota\", \"chevy\", \"ford\"]\n",
        "for type in types_of_cars:\n",
        "  print(\"i would like to own a\", type.capitalize())"
      ]
    },
    {
      "cell_type": "markdown",
      "metadata": {
        "id": "rJqdWzUp5RTD"
      },
      "source": [
        "## Question 4\n",
        "**Guest List:** If you could invite anyone, living or deceased, to dinner, who would you invite? Make a list that includes at least three people you’d like to invite to dinner. Then use your list to print a message to each person, inviting them to dinner."
      ]
    },
    {
      "cell_type": "code",
      "execution_count": null,
      "metadata": {
        "id": "57Oa2HJT5RTD",
        "outputId": "cf2cdc4a-8e67-4f0b-c5f7-3b6767832b8e",
        "colab": {
          "base_uri": "https://localhost:8080/"
        }
      },
      "outputs": [
        {
          "output_type": "stream",
          "name": "stdout",
          "text": [
            "I wouls like to invite you to dinner for a great time, jerry garcia\n",
            "I wouls like to invite you to dinner for a great time, bob weir\n",
            "I wouls like to invite you to dinner for a great time, pigpen\n",
            "I wouls like to invite you to dinner for a great time, phil lesh\n"
          ]
        }
      ],
      "source": [
        "invitees= [\"jerry garcia\", \"bob weir\", \"pigpen\", \"phil lesh\"]\n",
        "for name in invitees:\n",
        "  print(\"I wouls like to invite you to dinner for a great time,\", name)"
      ]
    },
    {
      "cell_type": "markdown",
      "metadata": {
        "id": "1stb6o695RTD"
      },
      "source": [
        "## Question 5\n",
        "**Changing Guest List:** You just heard that one of your guests can’t make the dinner, so you need to send out a new set of invitations. You’ll have to think of someone else to invite."
      ]
    },
    {
      "cell_type": "markdown",
      "metadata": {
        "id": "74qrNrhh5RTE"
      },
      "source": [
        "Start with your program from Question 4. Add a print() call at the end of your program stating the name of the guest who can’t make it."
      ]
    },
    {
      "cell_type": "code",
      "execution_count": null,
      "metadata": {
        "id": "Q0-sQW3t5RTE",
        "outputId": "1f33772b-5b73-41b2-cb3d-e769dc83bf15",
        "colab": {
          "base_uri": "https://localhost:8080/"
        }
      },
      "outputs": [
        {
          "output_type": "stream",
          "name": "stdout",
          "text": [
            "pigpencannot make it to dinner.\n",
            "I wouls like to invite you to dinner for a great time, jerry garcia\n",
            "I wouls like to invite you to dinner for a great time, bob weir\n",
            "I wouls like to invite you to dinner for a great time, phil lesh\n"
          ]
        }
      ],
      "source": [
        "invitees= [\"jerry garcia\", \"bob weir\", \"pigpen\", \"phil lesh\"]\n",
        "non_guest= \"pigpen\"\n",
        "if non_guest in invitees:\n",
        "  invitees.remove(non_guest)\n",
        "  print(non_guest + \"cannot make it to dinner.\")\n",
        "for name in invitees:\n",
        "  print(\"I wouls like to invite you to dinner for a great time,\", name,)"
      ]
    },
    {
      "cell_type": "code",
      "source": [
        "print(\"jerry garcia cannot make it\")"
      ],
      "metadata": {
        "id": "hZ7TjC0G-bAM",
        "outputId": "ea1926b6-6d7f-4aba-bb8f-cc2e7febab70",
        "colab": {
          "base_uri": "https://localhost:8080/"
        }
      },
      "execution_count": null,
      "outputs": [
        {
          "output_type": "stream",
          "name": "stdout",
          "text": [
            "jerry garcia cannot make it\n"
          ]
        }
      ]
    },
    {
      "cell_type": "markdown",
      "metadata": {
        "id": "dlerYPcj5RTE"
      },
      "source": [
        "Modify your list, replacing the name of the guest who can’t make it with the name of the new person you are inviting."
      ]
    },
    {
      "cell_type": "code",
      "execution_count": null,
      "metadata": {
        "id": "cd-dgmBH5RTE",
        "outputId": "04d18ba4-5daa-439e-d5da-0ed28f3bd545",
        "colab": {
          "base_uri": "https://localhost:8080/"
        }
      },
      "outputs": [
        {
          "output_type": "stream",
          "name": "stdout",
          "text": [
            "pigpen can't make it to the dinner. Inviting bob dylan instead.\n",
            "I would like to invite you to dinner for a great time, jerry garcia\n",
            "I would like to invite you to dinner for a great time, bob weir\n",
            "I would like to invite you to dinner for a great time, bob dylan\n",
            "I would like to invite you to dinner for a great time, phil lesh\n"
          ]
        }
      ],
      "source": [
        "invitees= [\"jerry garcia\", \"bob weir\", \"pigpen\", \"phil lesh\"]\n",
        "non_guest= \"pigpen\"\n",
        "new_guest= \"bob dylan\"\n",
        "if non_guest in invitees:\n",
        "    index_to_replace = invitees.index(non_guest)\n",
        "    invitees[index_to_replace] = new_guest\n",
        "print(non_guest + \" can't make it to the dinner. Inviting \" + new_guest + \" instead.\")\n",
        "for name in invitees:\n",
        "    print(\"I would like to invite you to dinner for a great time,\", name)"
      ]
    },
    {
      "cell_type": "markdown",
      "metadata": {
        "id": "8HndLd9f5RTE"
      },
      "source": [
        "Print a second set of invitation messages, one for each person who is still in your list."
      ]
    },
    {
      "cell_type": "code",
      "execution_count": null,
      "metadata": {
        "id": "iKgsQ4qy5RTF",
        "outputId": "ef53746d-fc58-440a-c2b7-d8801cff4628",
        "colab": {
          "base_uri": "https://localhost:8080/"
        }
      },
      "outputs": [
        {
          "output_type": "stream",
          "name": "stdout",
          "text": [
            "I would like to invite you to dinner for a wonderful time, jerry garcia\n",
            "I would like to invite you to dinner for a wonderful time, bob weir\n",
            "I would like to invite you to dinner for a wonderful time, bob dylan\n",
            "I would like to invite you to dinner for a wonderful time, phil lesh\n"
          ]
        }
      ],
      "source": [
        "invitees= [\"jerry garcia\", \"bob weir\", \"bob dylan\", \"phil lesh\"]\n",
        "for name in invitees:\n",
        "  print(\"I would like to invite you to dinner for a wonderful time,\", name)"
      ]
    },
    {
      "cell_type": "markdown",
      "metadata": {
        "id": "vO0lMkjl5RTF"
      },
      "source": [
        "## Question 6\n",
        "**More Guests:** You just found a bigger dinner table, so now more space is available. Think of three more guests to invite to dinner."
      ]
    },
    {
      "cell_type": "markdown",
      "metadata": {
        "id": "N1w8IBVY5RTF"
      },
      "source": [
        "Start with your program from Question 4 or Question 5. Add a print() call to the end of your program informing people that you found a bigger dinner table."
      ]
    },
    {
      "cell_type": "code",
      "execution_count": null,
      "metadata": {
        "id": "xNREGdFJ5RTF",
        "outputId": "72492496-5767-4474-ec95-af38af837f21",
        "colab": {
          "base_uri": "https://localhost:8080/"
        }
      },
      "outputs": [
        {
          "output_type": "stream",
          "name": "stdout",
          "text": [
            "I would like to invite you to dinner for a wonderful time, jerry garcia\n",
            "I would like to invite you to dinner for a wonderful time, bob weir\n",
            "I would like to invite you to dinner for a wonderful time, bob dylan\n",
            "I would like to invite you to dinner for a wonderful time, phil lesh\n",
            "There is now more room at a bigger table for more guest\n"
          ]
        }
      ],
      "source": [
        "invitees= [\"jerry garcia\", \"bob weir\", \"bob dylan\", \"phil lesh\"]\n",
        "for name in invitees:\n",
        "  print(\"I would like to invite you to dinner for a wonderful time,\", name)\n",
        "new_message=\"There is now more room at a bigger table for more guest\"\n",
        "print(new_message)"
      ]
    },
    {
      "cell_type": "markdown",
      "metadata": {
        "id": "xBenNOQH5RTF"
      },
      "source": [
        "Use insert() to add one new guest to the beginning of your list."
      ]
    },
    {
      "cell_type": "code",
      "execution_count": null,
      "metadata": {
        "id": "RA3N3n3m5RTF",
        "outputId": "4f2f1748-de15-4433-93cf-a240ca73441b",
        "colab": {
          "base_uri": "https://localhost:8080/"
        }
      },
      "outputs": [
        {
          "output_type": "stream",
          "name": "stdout",
          "text": [
            "I would like to invite you to dinner for a wonderful time, bob marley\n",
            "I would like to invite you to dinner for a wonderful time, jerry garcia\n",
            "I would like to invite you to dinner for a wonderful time, bob weir\n",
            "I would like to invite you to dinner for a wonderful time, bob dylan\n",
            "I would like to invite you to dinner for a wonderful time, phil lesh\n",
            "There is now more room at a bigger table for more guest\n"
          ]
        }
      ],
      "source": [
        "invitees= [\"jerry garcia\", \"bob weir\", \"bob dylan\", \"phil lesh\"]\n",
        "new_guest=\"bob marley\"\n",
        "invitees.insert(0, new_guest)\n",
        "for name in invitees:\n",
        "  print(\"I would like to invite you to dinner for a wonderful time,\", name)\n",
        "new_message=\"There is now more room at a bigger table for more guest\"\n",
        "print(new_message)"
      ]
    },
    {
      "cell_type": "markdown",
      "metadata": {
        "id": "zCVEpfLU5RTG"
      },
      "source": [
        "Use insert() to add one new guest to the middle of your list."
      ]
    },
    {
      "cell_type": "code",
      "execution_count": null,
      "metadata": {
        "id": "06uYT-4G5RTG",
        "outputId": "20471a27-e702-4eab-d67d-3269d8c23f91",
        "colab": {
          "base_uri": "https://localhost:8080/"
        }
      },
      "outputs": [
        {
          "output_type": "stream",
          "name": "stdout",
          "text": [
            "I would like to invite you to dinner for a wonderful time, jerry garcia\n",
            "I would like to invite you to dinner for a wonderful time, bob weir\n",
            "I would like to invite you to dinner for a wonderful time, john lennon\n",
            "I would like to invite you to dinner for a wonderful time, bob dylan\n",
            "I would like to invite you to dinner for a wonderful time, phil lesh\n",
            "There is now more room at a bigger table for more guest\n"
          ]
        }
      ],
      "source": [
        "invitees= [\"jerry garcia\", \"bob weir\", \"bob dylan\", \"phil lesh\"]\n",
        "new_guest=\"john lennon\"\n",
        "invitees.insert(2,new_guest)\n",
        "for name in invitees:\n",
        "  print(\"I would like to invite you to dinner for a wonderful time,\", name)\n",
        "new_message=\"There is now more room at a bigger table for more guest\"\n",
        "print(new_message)"
      ]
    },
    {
      "cell_type": "markdown",
      "metadata": {
        "id": "qx8hmyYH5RTG"
      },
      "source": [
        "Use append() to add one new guest to the end of your list."
      ]
    },
    {
      "cell_type": "code",
      "execution_count": null,
      "metadata": {
        "id": "zM_KQyT95RTG",
        "outputId": "c07b4088-ead2-42fd-c047-f1815820ae6d",
        "colab": {
          "base_uri": "https://localhost:8080/"
        }
      },
      "outputs": [
        {
          "output_type": "stream",
          "name": "stdout",
          "text": [
            "I would like to invite you to dinner for a wonderful time, jerry garcia\n",
            "I would like to invite you to dinner for a wonderful time, bob weir\n",
            "I would like to invite you to dinner for a wonderful time, bob dylan\n",
            "I would like to invite you to dinner for a wonderful time, phil lesh\n",
            "I would like to invite you to dinner for a wonderful time, ringo starr\n",
            "There is now more room at a bigger table for more guest\n"
          ]
        }
      ],
      "source": [
        "invitees= [\"jerry garcia\", \"bob weir\", \"bob dylan\", \"phil lesh\"]\n",
        "new_guest=\"ringo starr\"\n",
        "invitees.append(new_guest)\n",
        "for name in invitees:\n",
        "  print(\"I would like to invite you to dinner for a wonderful time,\", name)\n",
        "new_message=\"There is now more room at a bigger table for more guest\"\n",
        "print(new_message)"
      ]
    },
    {
      "cell_type": "markdown",
      "metadata": {
        "id": "jcucYR1Z5RTG"
      },
      "source": [
        "Print a new set of invitation messages, one for each person in your list."
      ]
    },
    {
      "cell_type": "code",
      "execution_count": null,
      "metadata": {
        "id": "-zlvbR4c5RTG",
        "outputId": "9d2aeceb-669e-4639-c122-ef73e451a524",
        "colab": {
          "base_uri": "https://localhost:8080/"
        }
      },
      "outputs": [
        {
          "output_type": "stream",
          "name": "stdout",
          "text": [
            "I would like to invite you to dinner for a wonderful time, jerry garcia\n",
            "I would like to invite you to dinner for a wonderful time, bob weir\n",
            "I would like to invite you to dinner for a wonderful time, bob dylan\n",
            "I would like to invite you to dinner for a wonderful time, phil lesh\n",
            "I would like to invite you to dinner for a wonderful time, bob marley\n",
            "I would like to invite you to dinner for a wonderful time, john lennon\n",
            "I would like to invite you to dinner for a wonderful time, ringo starr\n"
          ]
        }
      ],
      "source": [
        "invitees=[\"jerry garcia\", \"bob weir\", \"bob dylan\", \"phil lesh\",\"bob marley\", \"john lennon\", \"ringo starr\"]\n",
        "for name in invitees:\n",
        "    print(\"I would like to invite you to dinner for a wonderful time,\", name)"
      ]
    },
    {
      "cell_type": "markdown",
      "metadata": {
        "id": "Wluc7WIu5RTG"
      },
      "source": [
        "## Question 7\n",
        "**Shrinking Guest List:** You just found out that your new dinner table won’t arrive in time for the dinner, and you have space for only two guests.\n",
        "\n",
        "Start with your program from Question 6. Add a new line that prints a message saying that you can invite only two people for dinner."
      ]
    },
    {
      "cell_type": "code",
      "execution_count": null,
      "metadata": {
        "id": "gBf9P-b55RTG",
        "outputId": "ffec131d-ef14-45ef-8817-d78ed3a564d5",
        "colab": {
          "base_uri": "https://localhost:8080/"
        }
      },
      "outputs": [
        {
          "output_type": "stream",
          "name": "stdout",
          "text": [
            "I would like to invite you to dinner for a wonderful time, jerry garcia\n",
            "I would like to invite you to dinner for a wonderful time, bob weir\n",
            "I would like to invite you to dinner for a wonderful time, bob dylan\n",
            "I would like to invite you to dinner for a wonderful time, phil lesh\n",
            "I would like to invite you to dinner for a wonderful time, bob marley\n",
            "I would like to invite you to dinner for a wonderful time, john lennon\n",
            "I would like to invite you to dinner for a wonderful time, ringo starr\n",
            "Unfortunately, the new dinner table won’t arrive in time, and we can only invite two people for dinner.\n"
          ]
        }
      ],
      "source": [
        "invitees=[\"jerry garcia\", \"bob weir\", \"bob dylan\", \"phil lesh\",\"bob marley\", \"john lennon\", \"ringo starr\"]\n",
        "for name in invitees:\n",
        "    print(\"I would like to invite you to dinner for a wonderful time,\", name)\n",
        "print(\"Unfortunately, the new dinner table won’t arrive in time, and we can only invite two people for dinner.\")"
      ]
    },
    {
      "cell_type": "markdown",
      "metadata": {
        "id": "ekO4m4PW5RTH"
      },
      "source": [
        "Use pop() to remove guests from your list one at a time until only two names remain in your list. Each time you pop a name from your list, print a message to that person letting them know you’re sorry you can’t invite them to dinner."
      ]
    },
    {
      "cell_type": "code",
      "execution_count": null,
      "metadata": {
        "id": "l2rlPyuD5RTH",
        "outputId": "07288af3-5af5-42c0-e6e5-f9fd502fec56",
        "colab": {
          "base_uri": "https://localhost:8080/"
        }
      },
      "outputs": [
        {
          "output_type": "stream",
          "name": "stdout",
          "text": [
            "I would like to invite you to dinner for a wonderful time, jerry garcia\n",
            "I would like to invite you to dinner for a wonderful time, bob weir\n",
            "I would like to invite you to dinner for a wonderful time, bob dylan\n",
            "I would like to invite you to dinner for a wonderful time, phil lesh\n",
            "I would like to invite you to dinner for a wonderful time, bob marley\n",
            "I would like to invite you to dinner for a wonderful time, john lennon\n",
            "I would like to invite you to dinner for a wonderful time, ringo starr\n",
            "Unfortunately, the new dinner table won’t arrive in time, and we can only invite two people for dinner.\n",
            "Sorry, ringo starr, we can't invite you to dinner.\n",
            "I would like to invite you to dinner for a wonderful time, jerry garcia\n",
            "I would like to invite you to dinner for a wonderful time, bob weir\n",
            "I would like to invite you to dinner for a wonderful time, bob dylan\n",
            "I would like to invite you to dinner for a wonderful time, phil lesh\n",
            "I would like to invite you to dinner for a wonderful time, bob marley\n",
            "I would like to invite you to dinner for a wonderful time, john lennon\n",
            "Sorry, john lennon, we can't invite you to dinner.\n",
            "I would like to invite you to dinner for a wonderful time, jerry garcia\n",
            "I would like to invite you to dinner for a wonderful time, bob weir\n",
            "I would like to invite you to dinner for a wonderful time, bob dylan\n",
            "I would like to invite you to dinner for a wonderful time, phil lesh\n",
            "I would like to invite you to dinner for a wonderful time, bob marley\n",
            "Sorry, bob marley, we can't invite you to dinner.\n",
            "I would like to invite you to dinner for a wonderful time, jerry garcia\n",
            "I would like to invite you to dinner for a wonderful time, bob weir\n",
            "I would like to invite you to dinner for a wonderful time, bob dylan\n",
            "I would like to invite you to dinner for a wonderful time, phil lesh\n",
            "Sorry, phil lesh, we can't invite you to dinner.\n",
            "I would like to invite you to dinner for a wonderful time, jerry garcia\n",
            "I would like to invite you to dinner for a wonderful time, bob weir\n",
            "I would like to invite you to dinner for a wonderful time, bob dylan\n",
            "Sorry, bob dylan, we can't invite you to dinner.\n",
            "I would like to invite you to dinner for a wonderful time, jerry garcia\n",
            "I would like to invite you to dinner for a wonderful time, bob weir\n"
          ]
        }
      ],
      "source": [
        "invitees=[\"jerry garcia\", \"bob weir\", \"bob dylan\", \"phil lesh\",\"bob marley\", \"john lennon\", \"ringo starr\"]\n",
        "for name in invitees:\n",
        "  print(\"I would like to invite you to dinner for a wonderful time,\", name)\n",
        "print(\"Unfortunately, the new dinner table won’t arrive in time, and we can only invite two people for dinner.\")\n",
        "while len(invitees) > 2:\n",
        "    removed_guest = invitees.pop()\n",
        "    print(\"Sorry,\", removed_guest + \", we can't invite you to dinner.\")\n",
        "    for name in invitees:\n",
        "      print(\"I would like to invite you to dinner for a wonderful time,\", name)"
      ]
    },
    {
      "cell_type": "markdown",
      "metadata": {
        "id": "wGd1Jfr85RTH"
      },
      "source": [
        "Print a message to each of the two people still on your list, letting them know they’re still invited."
      ]
    },
    {
      "cell_type": "code",
      "execution_count": null,
      "metadata": {
        "id": "wP7ql2mc5RTH",
        "outputId": "4e012a9c-3f98-46a1-d4be-8fa53bebe57b",
        "colab": {
          "base_uri": "https://localhost:8080/"
        }
      },
      "outputs": [
        {
          "output_type": "stream",
          "name": "stdout",
          "text": [
            "Hello jerry garcia you are still invited to dinner\n",
            "hello bob weir you are still invited to dinner\n"
          ]
        }
      ],
      "source": [
        "messagetojerry=\"Hello jerry garcia you are still invited to dinner\"\n",
        "messagetobobweir=\"hello bob weir you are still invited to dinner\"\n",
        "print(messagetojerry)\n",
        "print(messagetobobweir)"
      ]
    },
    {
      "cell_type": "markdown",
      "metadata": {
        "id": "mEp_0_Fc5RTH"
      },
      "source": [
        "Use del to remove the last two names from your list, so you have an empty list. Print your list to make sure you actually have an empty list at the end of your program."
      ]
    },
    {
      "cell_type": "code",
      "execution_count": null,
      "metadata": {
        "id": "AzWyW0C05RTH",
        "outputId": "1baa0926-42fa-414b-fe3e-102fd26827a7",
        "colab": {
          "base_uri": "https://localhost:8080/"
        }
      },
      "outputs": [
        {
          "output_type": "stream",
          "name": "stdout",
          "text": [
            "Unfortunately, the new dinner table won’t arrive in time, and we can only invite two people for dinner.\n",
            "Sorry, ringo starr, we can't invite you to dinner.\n",
            "Sorry, bob marley, we can't invite you to dinner.\n",
            "Sorry, john lennon, we can't invite you to dinner.\n",
            "Sorry, phil lesh, we can't invite you to dinner.\n",
            "Sorry, bob dylan, we can't invite you to dinner.\n",
            "Updated invitees list: []\n"
          ]
        }
      ],
      "source": [
        "invitees = [\"jerry garcia\", \"bob weir\", \"bob dylan\", \"phil lesh\", \"john lennon\", \"bob marley\", \"ringo starr\"]\n",
        "print(\"Unfortunately, the new dinner table won’t arrive in time, and we can only invite two people for dinner.\")\n",
        "while len(invitees) > 2:\n",
        "    removed_guest = invitees.pop()\n",
        "    print(\"Sorry,\", removed_guest + \", we can't invite you to dinner.\")\n",
        "del invitees[-2:]\n",
        "print(\"Updated invitees list:\", invitees)\n"
      ]
    },
    {
      "cell_type": "markdown",
      "metadata": {
        "id": "1igCkais5RTI"
      },
      "source": [
        "## Question 8\n",
        "**Seeing the World:** Think of at least five places in the world you’d like to visit.\n",
        "\n",
        "Store the locations in a list. Make sure the list is not in alphabetical order."
      ]
    },
    {
      "cell_type": "code",
      "execution_count": null,
      "metadata": {
        "id": "TJoS4txd5RTI"
      },
      "outputs": [],
      "source": [
        "placestovisit= [\"germany\",\"poland\",\"japan\",\"australia\"]"
      ]
    },
    {
      "cell_type": "markdown",
      "metadata": {
        "id": "VxrDEit05RTP"
      },
      "source": [
        "Print your list in its original order. Don’t worry about printing the list neatly, just print it as a raw Python list."
      ]
    },
    {
      "cell_type": "code",
      "execution_count": null,
      "metadata": {
        "id": "f2FJarD85RTP",
        "outputId": "5481b923-2b1b-4403-dab1-4239349a6c34",
        "colab": {
          "base_uri": "https://localhost:8080/"
        }
      },
      "outputs": [
        {
          "output_type": "stream",
          "name": "stdout",
          "text": [
            "['germany', 'poland', 'japan', 'australia']\n"
          ]
        }
      ],
      "source": [
        "print(placestovisit)"
      ]
    },
    {
      "cell_type": "markdown",
      "metadata": {
        "id": "_AFlmJ5T5RTQ"
      },
      "source": [
        "Use sorted() to print your list in alphabetical order without modifying the actual list."
      ]
    },
    {
      "cell_type": "code",
      "execution_count": null,
      "metadata": {
        "id": "SO6OYEUD5RTQ",
        "outputId": "8dace0a9-e646-49bf-b89c-f672b4085ec9",
        "colab": {
          "base_uri": "https://localhost:8080/"
        }
      },
      "outputs": [
        {
          "output_type": "execute_result",
          "data": {
            "text/plain": [
              "['australia', 'germany', 'japan', 'poland']"
            ]
          },
          "metadata": {},
          "execution_count": 69
        }
      ],
      "source": [
        "sorted(placestovisit)"
      ]
    },
    {
      "cell_type": "markdown",
      "metadata": {
        "id": "ffnu1YAq5RTQ"
      },
      "source": [
        "Show that your list is still in its original order by printing it."
      ]
    },
    {
      "cell_type": "code",
      "execution_count": null,
      "metadata": {
        "id": "TBm5P6HY5RTR",
        "outputId": "2785e685-2b19-4fa4-e621-1636c0864273",
        "colab": {
          "base_uri": "https://localhost:8080/"
        }
      },
      "outputs": [
        {
          "output_type": "stream",
          "name": "stdout",
          "text": [
            "['germany', 'poland', 'japan', 'australia']\n"
          ]
        }
      ],
      "source": [
        "print(placestovisit)"
      ]
    },
    {
      "cell_type": "markdown",
      "metadata": {
        "id": "v_ql_NIa5RTS"
      },
      "source": [
        "Use sorted() to print your list in reverse alphabetical order without changing the order of the original list."
      ]
    },
    {
      "cell_type": "code",
      "execution_count": null,
      "metadata": {
        "id": "N2HaBioo5RTT",
        "outputId": "7549e4c5-702a-45ca-9453-20af2c9b76e6",
        "colab": {
          "base_uri": "https://localhost:8080/"
        }
      },
      "outputs": [
        {
          "output_type": "stream",
          "name": "stdout",
          "text": [
            "poland\n",
            "japan\n",
            "germany\n",
            "australia\n"
          ]
        }
      ],
      "source": [
        "for place in sorted(placestovisit, reverse=True):\n",
        "    print(place)"
      ]
    },
    {
      "cell_type": "markdown",
      "metadata": {
        "id": "8TVe7s_T5RTT"
      },
      "source": [
        "Show that your list is still in its original order by printing it again."
      ]
    },
    {
      "cell_type": "code",
      "execution_count": null,
      "metadata": {
        "id": "p_DQ2Od-5RTT",
        "outputId": "2a8d55b4-31fa-46d4-b8ff-9399fae807da",
        "colab": {
          "base_uri": "https://localhost:8080/"
        }
      },
      "outputs": [
        {
          "output_type": "stream",
          "name": "stdout",
          "text": [
            "['germany', 'poland', 'japan', 'australia']\n"
          ]
        }
      ],
      "source": [
        "print(placestovisit)"
      ]
    },
    {
      "cell_type": "markdown",
      "metadata": {
        "id": "yxhJs7MK5RTT"
      },
      "source": [
        "Use reverse() to change the order of your list. Print the list to show that its order has changed."
      ]
    },
    {
      "cell_type": "code",
      "execution_count": null,
      "metadata": {
        "id": "112B6a0t5RTV",
        "outputId": "c14105be-6982-4857-e138-d12a29105451",
        "colab": {
          "base_uri": "https://localhost:8080/"
        }
      },
      "outputs": [
        {
          "output_type": "stream",
          "name": "stdout",
          "text": [
            "['australia', 'japan', 'poland', 'germany']\n"
          ]
        }
      ],
      "source": [
        "placestovisit.reverse()\n",
        "print(placestovisit)"
      ]
    },
    {
      "cell_type": "markdown",
      "metadata": {
        "id": "cd9Yk9Ay5RTW"
      },
      "source": [
        "Use reverse() to change the order of your list again. Print the list to show it’s back to its original order."
      ]
    },
    {
      "cell_type": "code",
      "execution_count": null,
      "metadata": {
        "id": "xMvOwI_Y5RTY",
        "outputId": "1a56b3d2-645b-45e5-8ef4-df8b54e0ca1b",
        "colab": {
          "base_uri": "https://localhost:8080/"
        }
      },
      "outputs": [
        {
          "output_type": "stream",
          "name": "stdout",
          "text": [
            "['germany', 'poland', 'japan', 'australia']\n"
          ]
        }
      ],
      "source": [
        "placestovisit.reverse()\n",
        "print(placestovisit)"
      ]
    },
    {
      "cell_type": "markdown",
      "metadata": {
        "id": "6EM8ih205RTY"
      },
      "source": [
        "Use sort() to change your list so it’s stored in alphabetical order. Print the list to show that its order has been changed."
      ]
    },
    {
      "cell_type": "code",
      "execution_count": null,
      "metadata": {
        "id": "4Vi7OTPq5RTY",
        "outputId": "653072ac-143f-45c4-dca3-49ed7b32082d",
        "colab": {
          "base_uri": "https://localhost:8080/"
        }
      },
      "outputs": [
        {
          "output_type": "stream",
          "name": "stdout",
          "text": [
            "['australia', 'germany', 'japan', 'poland']\n"
          ]
        }
      ],
      "source": [
        "placestovisit.sort()\n",
        "print(placestovisit)"
      ]
    },
    {
      "cell_type": "markdown",
      "metadata": {
        "id": "RhtCkRFk5RTY"
      },
      "source": [
        "Use sort() to change your list so it’s stored in reverse alphabetical order. Print the list to show that its order has changed."
      ]
    },
    {
      "cell_type": "code",
      "execution_count": null,
      "metadata": {
        "id": "xX3d-zZv5RTZ",
        "outputId": "ad203f40-07ae-4ece-e880-8e5a1328f6f0",
        "colab": {
          "base_uri": "https://localhost:8080/"
        }
      },
      "outputs": [
        {
          "output_type": "stream",
          "name": "stdout",
          "text": [
            "['poland', 'japan', 'germany', 'australia']\n"
          ]
        }
      ],
      "source": [
        "placestovisit.sort(reverse=True)\n",
        "print(placestovisit)"
      ]
    },
    {
      "cell_type": "markdown",
      "metadata": {
        "id": "y5QoPMeK5RTZ"
      },
      "source": [
        "## Question 9\n",
        "**Dinner Guests:** Working with one of the programs from Question 4 through Question 7, use len() to print a message indicating the number of people you are inviting to dinner."
      ]
    },
    {
      "cell_type": "code",
      "execution_count": null,
      "metadata": {
        "id": "dYU8CPBI5RTa",
        "outputId": "ad869ae2-215f-4e21-80cf-57383c7afbd1",
        "colab": {
          "base_uri": "https://localhost:8080/"
        }
      },
      "outputs": [
        {
          "output_type": "stream",
          "name": "stdout",
          "text": [
            "Unfortunately, the new dinner table won’t arrive in time, and we can only invite 7 people for dinner.\n",
            "welcome to dinner, jerry garcia\n",
            "welcome to dinner, bob weir\n",
            "welcome to dinner, bob dylan\n",
            "welcome to dinner, phil lesh\n",
            "welcome to dinner, bob marley\n",
            "welcome to dinner, ringo starr\n",
            "welcome to dinner, john lennon\n"
          ]
        }
      ],
      "source": [
        "invitees = [\"jerry garcia\", \"bob weir\", \"bob dylan\", \"phil lesh\", \"bob marley\",\"ringo starr\", \"john lennon\"]\n",
        "print(\"Unfortunately, the new dinner table won’t arrive in time, and we can only invite\", len(invitees), \"people for dinner.\")\n",
        "for name in invitees:\n",
        "  print(\"welcome to dinner,\",name)\n",
        "\n"
      ]
    },
    {
      "cell_type": "markdown",
      "metadata": {
        "id": "9EmqwVAq5RTb"
      },
      "source": [
        "## Question 10\n",
        "**Every Function:** Think of something you could store in a list. For example, you could make a list of mountains, rivers, countries, cities, languages, or anything else you’d like. Write a program that creates a list containing these items and then uses each function introduced in this chapter at least once."
      ]
    },
    {
      "cell_type": "code",
      "execution_count": null,
      "metadata": {
        "id": "mGy9m1wI5RTb",
        "outputId": "83b2f9e1-cb0e-4e8e-c6df-a5942f9d82ad",
        "colab": {
          "base_uri": "https://localhost:8080/"
        }
      },
      "outputs": [
        {
          "output_type": "stream",
          "name": "stdout",
          "text": [
            "Original list of fruits: ['apple', 'banana', 'cherry', 'peach', 'orange']\n",
            "Updated list of fruits: ['apple', 'banana', 'grape', 'orange', 'fig']\n",
            "Popped fruit: cherry\n",
            "Number of fruits: 5\n",
            "Sorted list of fruits: ['apple', 'banana', 'fig', 'grape', 'orange']\n",
            "Reversed list of fruits: ['orange', 'grape', 'fig', 'banana', 'apple']\n"
          ]
        }
      ],
      "source": [
        "fruits = [\"apple\", \"banana\", \"cherry\", \"peach\", \"orange\"]\n",
        "print(\"Original list of fruits:\", fruits)\n",
        "fruits.append(\"fig\")\n",
        "fruits.insert(2, \"grape\")\n",
        "fruits.remove(\"peach\")\n",
        "popped_fruit = fruits.pop(3)\n",
        "print(\"Updated list of fruits:\", fruits)\n",
        "print(\"Popped fruit:\", popped_fruit)\n",
        "\n",
        "print(\"Number of fruits:\", len(fruits))\n",
        "\n",
        "fruits.sort()\n",
        "\n",
        "print(\"Sorted list of fruits:\", fruits)\n",
        "\n",
        "fruits.reverse()\n",
        "\n",
        "\n",
        "print(\"Reversed list of fruits:\", fruits)"
      ]
    }
  ],
  "metadata": {
    "kernelspec": {
      "display_name": "Python 3 (ipykernel)",
      "language": "python",
      "name": "python3"
    },
    "language_info": {
      "codemirror_mode": {
        "name": "ipython",
        "version": 3
      },
      "file_extension": ".py",
      "mimetype": "text/x-python",
      "name": "python",
      "nbconvert_exporter": "python",
      "pygments_lexer": "ipython3",
      "version": "3.8.10"
    },
    "colab": {
      "provenance": []
    }
  },
  "nbformat": 4,
  "nbformat_minor": 0
}